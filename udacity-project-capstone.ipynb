{
 "cells": [
  {
   "cell_type": "markdown",
   "metadata": {
    "editable": true
   },
   "source": [
    "# Data Engineering Capstone Project"
   ]
  },
  {
   "cell_type": "markdown",
   "metadata": {
    "editable": true
   },
   "source": [
    "## Enviroment setup"
   ]
  },
  {
   "cell_type": "code",
   "execution_count": 1,
   "metadata": {
    "editable": true
   },
   "outputs": [],
   "source": [
    "# Import necessary libraries\n",
    "import pandas as pd\n",
    "from pyspark.sql import SparkSession\n",
    "from pyspark.sql.functions import monotonically_increasing_id as mono_id\n",
    "import configparser"
   ]
  },
  {
   "cell_type": "code",
   "execution_count": 2,
   "metadata": {
    "editable": true
   },
   "outputs": [],
   "source": [
    "# Read config file\n",
    "config = configparser.ConfigParser()\n",
    "config.read_file(open('dl.cfg'))\n",
    "\n",
    "INPUT_DATA = config['LOCAL']['INPUT_DATA']\n",
    "INPUT_DATA_VACCINES = config['LOCAL']['INPUT_DATA_VACCINES']\n",
    "OUTPUT_DATA = config['LOCAL']['OUTPUT_DATA']\n",
    "DATA_COLUMNS = config['COMMON']['DATA_COLUMNS']"
   ]
  },
  {
   "cell_type": "code",
   "execution_count": 3,
   "metadata": {
    "editable": true
   },
   "outputs": [],
   "source": [
    "# Spark session\n",
    "spark = SparkSession \\\n",
    "        .builder\\\n",
    "        .getOrCreate()"
   ]
  },
  {
   "cell_type": "code",
   "execution_count": 4,
   "metadata": {
    "editable": true
   },
   "outputs": [],
   "source": [
    "def write_parquet(df, parquet_name):\n",
    "    parquet_path = OUTPUT_DATA + f'{parquet_name}.parquet'\n",
    "    df.write.mode(\"overwrite\").parquet(parquet_path)\n",
    "    print(f'Writing {parquet_name} Table DONE.')\n"
   ]
  },
  {
   "cell_type": "code",
   "execution_count": 5,
   "metadata": {
    "editable": true
   },
   "outputs": [],
   "source": [
    "def read_parquet(parquet_name):\n",
    "    parquet_path = OUTPUT_DATA + f'{parquet_name}.parquet'\n",
    "    return spark.read.parquet(parquet_path)"
   ]
  },
  {
   "cell_type": "markdown",
   "metadata": {
    "editable": true
   },
   "source": [
    "## Step 1: Scope the Project and Gather Data\n",
    "In this step, we’ll:\n",
    "\n",
    "* Identify and gather the data we'll be using for our project (at least two sources and more than 1 million rows).\n",
    "* Explain what end use cases we'd like to prepare the data for (e.g., analytics table, app back-end, source-of-truth database, etc.)\n",
    "\n",
    "We choose the following datasets:\n",
    "* Brazilian Government' dataset [COVID-19 population imunization program](https://dados.gov.br/dataset/covid-19-vacinacao/resource/ef3bd0b8-b605-474b-9ae5-c97390c197a8?inner_span=True)"
   ]
  },
  {
   "cell_type": "code",
   "execution_count": 6,
   "metadata": {
    "editable": true
   },
   "outputs": [
    {
     "name": "stdout",
     "output_type": "stream",
     "text": [
      "root\n",
      " |-- data_importacao_rnds: string (nullable = true)\n",
      " |-- document_id: string (nullable = true)\n",
      " |-- estabelecimento_municipio_codigo: string (nullable = true)\n",
      " |-- estabelecimento_municipio_nome: string (nullable = true)\n",
      " |-- estabelecimento_razaosocial: string (nullable = true)\n",
      " |-- estabelecimento_uf: string (nullable = true)\n",
      " |-- estabelecimento_valor: string (nullable = true)\n",
      " |-- estalecimento_nofantasia: string (nullable = true)\n",
      " |-- id_sistema_origem: string (nullable = true)\n",
      " |-- paciente_datanascimento: string (nullable = true)\n",
      " |-- paciente_endereco_cep: string (nullable = true)\n",
      " |-- paciente_endereco_coibgemunicipio: string (nullable = true)\n",
      " |-- paciente_endereco_copais: string (nullable = true)\n",
      " |-- paciente_endereco_nmmunicipio: string (nullable = true)\n",
      " |-- paciente_endereco_nmpais: string (nullable = true)\n",
      " |-- paciente_endereco_uf: string (nullable = true)\n",
      " |-- paciente_enumsexobiologico: string (nullable = true)\n",
      " |-- paciente_id: string (nullable = true)\n",
      " |-- paciente_idade: string (nullable = true)\n",
      " |-- paciente_nacionalidade_enumnacionalidade: string (nullable = true)\n",
      " |-- paciente_racacor_codigo: string (nullable = true)\n",
      " |-- paciente_racacor_valor: string (nullable = true)\n",
      " |-- sistema_origem: string (nullable = true)\n",
      " |-- vacina_categoria_codigo: string (nullable = true)\n",
      " |-- vacina_categoria_nome: string (nullable = true)\n",
      " |-- vacina_codigo: string (nullable = true)\n",
      " |-- vacina_dataaplicacao: string (nullable = true)\n",
      " |-- vacina_descricao_dose: string (nullable = true)\n",
      " |-- vacina_fabricante_nome: string (nullable = true)\n",
      " |-- vacina_fabricante_referencia: string (nullable = true)\n",
      " |-- vacina_grupoatendimento_codigo: string (nullable = true)\n",
      " |-- vacina_grupoatendimento_nome: string (nullable = true)\n",
      " |-- vacina_lote: string (nullable = true)\n",
      " |-- vacina_nome: string (nullable = true)\n",
      "\n"
     ]
    }
   ],
   "source": [
    "vaccines_df = spark.read.csv(INPUT_DATA_VACCINES, sep=';', header=True)\n",
    "\n",
    "vaccines_df.printSchema()"
   ]
  },
  {
   "cell_type": "markdown",
   "metadata": {
    "editable": true
   },
   "source": [
    "## Step 2: Explore and Assess the Data\n",
    "In this step we need:\n",
    "* Explore the data to identify data quality issues, like missing values, duplicate data, etc.\n",
    "* Document steps necessary to clean the data"
   ]
  },
  {
   "cell_type": "code",
   "execution_count": 7,
   "metadata": {
    "editable": true
   },
   "outputs": [
    {
     "data": {
      "text/plain": [
       "Index(['paciente_id', 'paciente_idade', 'paciente_datanascimento',\n",
       "       'paciente_enumsexobiologico', 'paciente_endereco_nmpais',\n",
       "       'paciente_endereco_uf', 'paciente_endereco_nmmunicipio',\n",
       "       'estabelecimento_razaosocial', 'estalecimento_nofantasia',\n",
       "       'estabelecimento_uf', 'estabelecimento_municipio_nome',\n",
       "       'vacina_categoria_codigo', 'vacina_categoria_nome',\n",
       "       'vacina_grupoatendimento_codigo', 'vacina_grupoatendimento_nome',\n",
       "       'vacina_fabricante_nome', 'vacina_codigo', 'vacina_nome',\n",
       "       'vacina_dataaplicacao'],\n",
       "      dtype='object')"
      ]
     },
     "execution_count": 7,
     "metadata": {},
     "output_type": "execute_result"
    }
   ],
   "source": [
    "# Read the data dictionary from JSON and extract the valid columns\n",
    "col_names = pd.read_json(DATA_COLUMNS, typ='series')\n",
    "valid_columns = col_names.index\n",
    "valid_columns"
   ]
  },
  {
   "cell_type": "code",
   "execution_count": 8,
   "metadata": {
    "editable": true
   },
   "outputs": [
    {
     "data": {
      "text/plain": [
       "['estabelecimento_valor',\n",
       " 'id_sistema_origem',\n",
       " 'paciente_racacor_codigo',\n",
       " 'paciente_racacor_valor',\n",
       " 'vacina_fabricante_referencia',\n",
       " 'data_importacao_rnds',\n",
       " 'paciente_endereco_coibgemunicipio',\n",
       " 'paciente_endereco_cep',\n",
       " 'document_id',\n",
       " 'estabelecimento_municipio_codigo',\n",
       " 'vacina_lote',\n",
       " 'paciente_nacionalidade_enumnacionalidade',\n",
       " 'paciente_endereco_copais',\n",
       " 'sistema_origem',\n",
       " 'vacina_descricao_dose']"
      ]
     },
     "execution_count": 8,
     "metadata": {},
     "output_type": "execute_result"
    }
   ],
   "source": [
    "# Get the difference between the dataframe colums and the valid columns\n",
    "columns_todrop = list(set(vaccines_df.columns) - set(valid_columns))\n",
    "\n",
    "columns_todrop"
   ]
  },
  {
   "cell_type": "code",
   "execution_count": 9,
   "metadata": {
    "editable": true
   },
   "outputs": [
    {
     "name": "stdout",
     "output_type": "stream",
     "text": [
      "root\n",
      " |-- estabelecimento_municipio_nome: string (nullable = true)\n",
      " |-- estabelecimento_razaosocial: string (nullable = true)\n",
      " |-- estabelecimento_uf: string (nullable = true)\n",
      " |-- estalecimento_nofantasia: string (nullable = true)\n",
      " |-- paciente_datanascimento: string (nullable = true)\n",
      " |-- paciente_endereco_nmmunicipio: string (nullable = true)\n",
      " |-- paciente_endereco_nmpais: string (nullable = true)\n",
      " |-- paciente_endereco_uf: string (nullable = true)\n",
      " |-- paciente_enumsexobiologico: string (nullable = true)\n",
      " |-- paciente_id: string (nullable = true)\n",
      " |-- paciente_idade: string (nullable = true)\n",
      " |-- vacina_categoria_codigo: string (nullable = true)\n",
      " |-- vacina_categoria_nome: string (nullable = true)\n",
      " |-- vacina_codigo: string (nullable = true)\n",
      " |-- vacina_dataaplicacao: string (nullable = true)\n",
      " |-- vacina_fabricante_nome: string (nullable = true)\n",
      " |-- vacina_grupoatendimento_codigo: string (nullable = true)\n",
      " |-- vacina_grupoatendimento_nome: string (nullable = true)\n",
      " |-- vacina_nome: string (nullable = true)\n",
      "\n"
     ]
    }
   ],
   "source": [
    "# Remove unused columns from dataframe\n",
    "vaccines_df = vaccines_df.drop(*columns_todrop)\n",
    "vaccines_df.printSchema()"
   ]
  },
  {
   "cell_type": "code",
   "execution_count": 10,
   "metadata": {
    "editable": true
   },
   "outputs": [],
   "source": [
    "# Replace the null values\n",
    "vaccines_df = vaccines_df.fillna(\\\n",
    "    {\\\n",
    "        'vacina_categoria_codigo': 0, \\\n",
    "        'vacina_categoria_nome': 'N/A', \\\n",
    "        'vacina_grupoatendimento_nome': 'N/A', \\\n",
    "        'paciente_enumsexobiologico': 'N/A',\\\n",
    "        'estalecimento_nofantasia': 'N/A'\n",
    "    })"
   ]
  },
  {
   "cell_type": "markdown",
   "metadata": {
    "editable": true
   },
   "source": [
    "## Step 3: Define the Data Model\n",
    "* Map out the conceptual data model and explain why you chose that model\n",
    "* List the steps necessary to pipeline the data into the chosen data model"
   ]
  },
  {
   "cell_type": "code",
   "execution_count": null,
   "metadata": {
    "editable": true
   },
   "outputs": [],
   "source": []
  },
  {
   "cell_type": "markdown",
   "metadata": {
    "editable": true
   },
   "source": [
    "## Step 4: Run ETL to Model the Data\n",
    "* Create the data pipelines and the data model\n",
    "* Include a data dictionary\n",
    "* Run data quality checks to ensure the pipeline ran as expected\n",
    "\t* Integrity constraints on the relational database (e.g., unique key, data type, etc.)\n",
    "\t* Unit tests for the scripts to ensure they are doing the right thing\n",
    "\t* Source/count checks to ensure completeness"
   ]
  },
  {
   "cell_type": "code",
   "execution_count": 11,
   "metadata": {
    "editable": true
   },
   "outputs": [
    {
     "name": "stdout",
     "output_type": "stream",
     "text": [
      "root\n",
      " |-- id: string (nullable = true)\n",
      " |-- name: string (nullable = true)\n",
      " |-- supplier: string (nullable = true)\n",
      "\n",
      "+---+--------------------+--------------------+\n",
      "| id|                name|            supplier|\n",
      "+---+--------------------+--------------------+\n",
      "| 86|Covid-19-Coronava...|   FUNDACAO BUTANTAN|\n",
      "| 85|Vacina Covid-19 -...|FUNDACAO OSWALDO ...|\n",
      "+---+--------------------+--------------------+\n",
      "\n"
     ]
    }
   ],
   "source": [
    "# Create vaccines table and write parquet files\n",
    "vaccines_df.createOrReplaceTempView(\"vaccines_table_DF\")\n",
    "vaccines_table_DF = spark.sql(\"\"\"\n",
    "    SELECT  DISTINCT vacina_codigo AS id, \n",
    "                     vacina_nome AS name, \n",
    "                     vacina_fabricante_nome AS supplier\n",
    "    FROM vaccines_table_DF\n",
    "    ORDER BY supplier\n",
    "\"\"\")\n",
    "\n",
    "vaccines_table_DF.printSchema()\n",
    "vaccines_table_DF.show()"
   ]
  },
  {
   "cell_type": "code",
   "execution_count": 12,
   "metadata": {
    "editable": true
   },
   "outputs": [
    {
     "name": "stdout",
     "output_type": "stream",
     "text": [
      "Writing vaccines Table DONE.\n"
     ]
    }
   ],
   "source": [
    "# Write parquet file and get back to Spark:\n",
    "write_parquet(vaccines_table_DF, 'vaccines')\n",
    "vaccines_table_DF = read_parquet('vaccines')"
   ]
  },
  {
   "cell_type": "code",
   "execution_count": 13,
   "metadata": {
    "editable": true
   },
   "outputs": [
    {
     "name": "stdout",
     "output_type": "stream",
     "text": [
      "root\n",
      " |-- id: long (nullable = false)\n",
      " |-- name: string (nullable = false)\n",
      " |-- organization: string (nullable = true)\n",
      " |-- state: string (nullable = true)\n",
      " |-- city: string (nullable = true)\n",
      "\n",
      "+------------+--------------------+--------------------+-----+-------------------+\n",
      "|          id|                name|        organization|state|               city|\n",
      "+------------+--------------------+--------------------+-----+-------------------+\n",
      "|           0|AMBULATORIO MUNIC...|PREFEITURA MUNICI...|   MA|    POCAO DE PEDRAS|\n",
      "|           1|CEADIM DE SERRANO...|MUNICIPIO DE SERR...|   MA|SERRANO DO MARANHAO|\n",
      "|  8589934592|CENTRO DE ATENDIM...|PREFEITURA MUNICI...|   MA|      VARGEM GRANDE|\n",
      "| 17179869184|CENTRO DE ESPECIA...|PREFEITURA MUNICI...|   MA|    BARAO DE GRAJAU|\n",
      "| 25769803776|CENTRO DE ESPECIA...|PREFEITURA MUNICI...|   MA|           PINHEIRO|\n",
      "| 34359738368|CENTRO DE SAUDE A...|MUNICIPIO DE URBA...|   MA|      URBANO SANTOS|\n",
      "| 42949672960|CENTRO DE SAUDE A...|PREFEITURA MUNICI...|   MA| SAO VICENTE FERRER|\n",
      "| 51539607552|CENTRO DE SAUDE A...|PREFEITURA MUNICI...|   MA|    GODOFREDO VIANA|\n",
      "| 60129542144|CENTRO DE SAUDE A...|PREFEITURA MUNICI...|   MA|           CURURUPU|\n",
      "| 68719476736|CENTRO DE SAUDE B...|PREFEITURA MUNICI...|   MA|            BACABAL|\n",
      "| 77309411328|CENTRO DE SAUDE C...|PREFEITURA MUNICI...|   MA|      LAGOA DO MATO|\n",
      "| 85899345920|CENTRO DE SAUDE C...|PREFEITURA MUNICI...|   MA|         CANTANHEDE|\n",
      "| 85899345921|CENTRO DE SAUDE C...|PREFEITURA MUNICI...|   MA|            BACABAL|\n",
      "| 94489280512|CENTRO DE SAUDE C...|PREFEITURA MUNICI...|   MA|           CURURUPU|\n",
      "|103079215104|CENTRO DE SAUDE D...|PREFEITURA MUNICI...|   MA|          MATA ROMA|\n",
      "|111669149696|CENTRO DE SAUDE D...|PREFEITURA MUNICI...|   MA|            BACABAL|\n",
      "|120259084288|CENTRO DE SAUDE D...|PREFEITURA MUNICI...|   MA|      ALDEIAS ALTAS|\n",
      "|128849018880|CENTRO DE SAUDE D...|PREFEITURA MUNICI...|   MA|     CANDIDO MENDES|\n",
      "|137438953472|CENTRO DE SAUDE D...|PREFEITURA MUNICI...|   MA|            COROATA|\n",
      "|146028888064|CENTRO DE SAUDE D...|PREFEITURA MUNICI...|   MA|         MARACACUME|\n",
      "+------------+--------------------+--------------------+-----+-------------------+\n",
      "only showing top 20 rows\n",
      "\n"
     ]
    }
   ],
   "source": [
    "# Create Health Institution table and write parquet files\n",
    "vaccines_df.createOrReplaceTempView(\"health_institution_table_DF\")\n",
    "health_institution_table_DF = spark.sql(\"\"\"\n",
    "    SELECT DISTINCT estalecimento_nofantasia AS name,\n",
    "                    estabelecimento_razaosocial AS organization,\n",
    "                    estabelecimento_uf AS state,\n",
    "                    estabelecimento_municipio_nome AS city\n",
    "    FROM health_institution_table_DF\n",
    "    ORDER BY name\n",
    "\"\"\")\n",
    "\n",
    "health_institution_table_DF = health_institution_table_DF.select(mono_id().alias('id'), '*')\n",
    "health_institution_table_DF.printSchema()\n",
    "health_institution_table_DF.show()"
   ]
  },
  {
   "cell_type": "code",
   "execution_count": 14,
   "metadata": {
    "editable": true
   },
   "outputs": [
    {
     "name": "stdout",
     "output_type": "stream",
     "text": [
      "Writing health_institution Table DONE.\n"
     ]
    }
   ],
   "source": [
    "# Write parquet file and get back to Spark:\n",
    "write_parquet(health_institution_table_DF, 'health_institution')\n",
    "health_institution_table_DF = read_parquet('health_institution')"
   ]
  },
  {
   "cell_type": "code",
   "execution_count": 15,
   "metadata": {
    "editable": true
   },
   "outputs": [
    {
     "name": "stdout",
     "output_type": "stream",
     "text": [
      "root\n",
      " |-- id: string (nullable = false)\n",
      " |-- name: string (nullable = false)\n",
      "\n",
      "+---+--------------------+\n",
      "| id|                name|\n",
      "+---+--------------------+\n",
      "|  1|        Comorbidades|\n",
      "|  2|        Faixa Etária|\n",
      "| 11|Pessoas com Defic...|\n",
      "|  3|Pessoas de 60 ano...|\n",
      "|  7|     Povos Indígenas|\n",
      "|  6|Povos e Comunidad...|\n",
      "|  9|Trabalhadores de ...|\n",
      "+---+--------------------+\n",
      "\n"
     ]
    }
   ],
   "source": [
    "# Create Category table and write parquet files\n",
    "vaccines_df.createOrReplaceTempView(\"category_table_DF\")\n",
    "category_table_DF = spark.sql(\"\"\"\n",
    "    SELECT DISTINCT vacina_categoria_codigo AS id,\n",
    "                    vacina_categoria_nome AS name\n",
    "            FROM category_table_DF\n",
    "            ORDER BY name\n",
    "\"\"\")\n",
    "\n",
    "category_table_DF.printSchema()\n",
    "category_table_DF.show()"
   ]
  },
  {
   "cell_type": "code",
   "execution_count": 16,
   "metadata": {
    "editable": true
   },
   "outputs": [
    {
     "name": "stdout",
     "output_type": "stream",
     "text": [
      "Writing category Table DONE.\n"
     ]
    }
   ],
   "source": [
    "# Write parquet file and get back to Spark:\n",
    "write_parquet(category_table_DF, 'category')\n",
    "category_table_DF = read_parquet('category')"
   ]
  },
  {
   "cell_type": "code",
   "execution_count": 17,
   "metadata": {
    "editable": true
   },
   "outputs": [
    {
     "name": "stdout",
     "output_type": "stream",
     "text": [
      "root\n",
      " |-- id: string (nullable = true)\n",
      " |-- name: string (nullable = false)\n",
      "\n",
      "+----+--------------------+\n",
      "|  id|                name|\n",
      "+----+--------------------+\n",
      "| 905|  Cuidador de Idosos|\n",
      "| 103|   Diabetes Mellitus|\n",
      "| 105|Doença Renal Crônica|\n",
      "| 106|Doenças Cardiovas...|\n",
      "| 907|       Enfermeiro(a)|\n",
      "| 909|     Fisioterapeutas|\n",
      "| 911|Funcionário do Si...|\n",
      "| 107|Hipertensão de di...|\n",
      "| 102|          Neoplasias|\n",
      "| 915|       Nutricionista|\n",
      "| 926|              Outros|\n",
      "|1102|Pessoas com Defic...|\n",
      "| 201|Pessoas de 18 a 6...|\n",
      "| 301|Pessoas de 60 ano...|\n",
      "| 202|Pessoas de 65 a 6...|\n",
      "| 203|Pessoas de 70 a 7...|\n",
      "| 204|Pessoas de 75 a 7...|\n",
      "| 205|Pessoas de 80 ano...|\n",
      "| 701|Povos indígenas e...|\n",
      "| 917|Profissionais e A...|\n",
      "+----+--------------------+\n",
      "only showing top 20 rows\n",
      "\n"
     ]
    }
   ],
   "source": [
    "# Create Population Groups table and write parquet files\n",
    "vaccines_df.createOrReplaceTempView(\"population_group_table_DF\")\n",
    "population_group_table_DF = spark.sql(\"\"\"\n",
    "    SELECT DISTINCT vacina_grupoatendimento_codigo AS id,\n",
    "                    vacina_grupoatendimento_nome AS name\n",
    "            FROM population_group_table_DF\n",
    "        ORDER BY name\n",
    "\"\"\")\n",
    "\n",
    "population_group_table_DF.printSchema()\n",
    "population_group_table_DF.show()"
   ]
  },
  {
   "cell_type": "code",
   "execution_count": 18,
   "metadata": {
    "editable": true
   },
   "outputs": [
    {
     "name": "stdout",
     "output_type": "stream",
     "text": [
      "Writing population_group Table DONE.\n"
     ]
    }
   ],
   "source": [
    "# Write parquet file and get back to Spark:\n",
    "write_parquet(population_group_table_DF, 'population_group')\n",
    "population_group_table_DF = read_parquet('population_group')"
   ]
  },
  {
   "cell_type": "code",
   "execution_count": 19,
   "metadata": {
    "editable": true
   },
   "outputs": [
    {
     "name": "stdout",
     "output_type": "stream",
     "text": [
      "root\n",
      " |-- id: string (nullable = true)\n",
      " |-- age: string (nullable = true)\n",
      " |-- birthdate: string (nullable = true)\n",
      " |-- gender: string (nullable = false)\n",
      " |-- country: string (nullable = true)\n",
      " |-- state: string (nullable = true)\n",
      " |-- city: string (nullable = true)\n",
      "\n",
      "+--------------------+---+-------------------+------+-------+-----+--------------------+\n",
      "|                  id|age|          birthdate|gender|country|state|                city|\n",
      "+--------------------+---+-------------------+------+-------+-----+--------------------+\n",
      "|001172d8023bf74e8...| 69|1951-05-03 00:00:00|     M| BRASIL|   MA|            SAO LUIS|\n",
      "|0037915f9d8c82740...| 80|1940-07-14 00:00:00|     F| BRASIL|   MA|          ACAILANDIA|\n",
      "|003f0c135c70c7f4d...| 82|1938-05-09 00:00:00|     F| BRASIL|   MA|  ITINGA DO MARANHAO|\n",
      "|00ba3b39629b28be3...| 61|1960-01-21 00:00:00|     F| BRASIL|   MA|      BARRA DO CORDA|\n",
      "|012c38283b39186dd...| 50|1970-04-03 00:00:00|     M| BRASIL|   MA|       PRIMEIRA CRUZ|\n",
      "|014d4147b3c1cde08...| 33|1987-07-23 00:00:00|     F| BRASIL|   MA|                CODO|\n",
      "|027b0944c938c2ea1...|100|1920-10-15 00:00:00|     F| BRASIL|   MA|     PASSAGEM FRANCA|\n",
      "|03440bfb7fb9eb83b...| 78|1942-09-24 00:00:00|     M| BRASIL|   MA|       PINDARE-MIRIM|\n",
      "|034ecb4f868ba1aad...| 66|1954-08-03 00:00:00|     M| BRASIL|   MA|            PINHEIRO|\n",
      "|03beb365a9b88eeda...| 76|1944-04-08 00:00:00|     M| BRASIL|   MA|              GRAJAU|\n",
      "|043cf7bdc819b9a8f...| 70|1950-07-06 00:00:00|     F| BRASIL|   MA|            SAO LUIS|\n",
      "|044b42ef0a290b2b0...| 75|1945-09-05 00:00:00|     M| BRASIL|   MA|            ESTREITO|\n",
      "|04d4de9c5084ee7f3...| 75|1946-02-01 00:00:00|     F| BRASIL|   MA|          ACAILANDIA|\n",
      "|04febc31e2f007c5e...| 68|1953-02-17 00:00:00|     M| BRASIL|   MA|            PINHEIRO|\n",
      "|051b1a6670aa42a13...| 35|1985-08-24 00:00:00|     M| BRASIL|   MA|        PALMEIRANDIA|\n",
      "|0594c311726297d81...| 88|1933-01-10 00:00:00|     M| BRASIL|   MA|               TIMON|\n",
      "|05e418aea32620567...| 40|1981-02-10 00:00:00|     M| BRASIL|   MA|          SANTA INES|\n",
      "|05ec6de7defe295a7...| 76|1945-01-14 00:00:00|     M| BRASIL|   MA|SANTA QUITERIA DO...|\n",
      "|063a0c777546ca648...| 27|1993-08-28 00:00:00|     M| BRASIL|   MA|              BACURI|\n",
      "|074197230cabbabc7...| 69|1951-05-07 00:00:00|     M| BRASIL|   MA|            SAO LUIS|\n",
      "+--------------------+---+-------------------+------+-------+-----+--------------------+\n",
      "only showing top 20 rows\n",
      "\n"
     ]
    }
   ],
   "source": [
    "# Create Patient table and write parquet files\n",
    "vaccines_df.createOrReplaceTempView(\"patient_table_DF\")\n",
    "patient_table_DF = spark.sql(\"\"\"\n",
    "    SELECT DISTINCT paciente_id AS id,\n",
    "                    paciente_idade AS age,\n",
    "                    paciente_datanascimento AS birthdate,\n",
    "                    paciente_enumsexobiologico AS gender,\n",
    "                    paciente_endereco_nmpais AS country,\n",
    "                    paciente_endereco_uf AS state,\n",
    "                    paciente_endereco_nmmunicipio AS city\n",
    "            FROM patient_table_DF\n",
    "            WHERE paciente_id IS NOT NULL\n",
    "            ORDER BY id\n",
    "\"\"\")\n",
    "\n",
    "patient_table_DF.printSchema()\n",
    "patient_table_DF.show()"
   ]
  },
  {
   "cell_type": "code",
   "execution_count": 20,
   "metadata": {
    "editable": true
   },
   "outputs": [
    {
     "name": "stdout",
     "output_type": "stream",
     "text": [
      "Writing patient Table DONE.\n"
     ]
    }
   ],
   "source": [
    "# Write parquet file and get back to Spark:\n",
    "write_parquet(patient_table_DF, 'patient')\n",
    "patient_table_DF = read_parquet('patient')"
   ]
  },
  {
   "cell_type": "code",
   "execution_count": 21,
   "metadata": {
    "editable": true
   },
   "outputs": [
    {
     "name": "stdout",
     "output_type": "stream",
     "text": [
      "root\n",
      " |-- estabelecimento_municipio_nome: string (nullable = true)\n",
      " |-- estabelecimento_razaosocial: string (nullable = true)\n",
      " |-- estabelecimento_uf: string (nullable = true)\n",
      " |-- estalecimento_nofantasia: string (nullable = false)\n",
      " |-- paciente_datanascimento: string (nullable = true)\n",
      " |-- paciente_endereco_nmmunicipio: string (nullable = true)\n",
      " |-- paciente_endereco_nmpais: string (nullable = true)\n",
      " |-- paciente_endereco_uf: string (nullable = true)\n",
      " |-- paciente_enumsexobiologico: string (nullable = false)\n",
      " |-- paciente_id: string (nullable = true)\n",
      " |-- paciente_idade: string (nullable = true)\n",
      " |-- vacina_categoria_codigo: string (nullable = false)\n",
      " |-- vacina_categoria_nome: string (nullable = false)\n",
      " |-- vacina_codigo: string (nullable = true)\n",
      " |-- vacina_dataaplicacao: string (nullable = true)\n",
      " |-- vacina_fabricante_nome: string (nullable = true)\n",
      " |-- vacina_grupoatendimento_codigo: string (nullable = true)\n",
      " |-- vacina_grupoatendimento_nome: string (nullable = false)\n",
      " |-- vacina_nome: string (nullable = true)\n",
      " |-- id: long (nullable = true)\n",
      " |-- name: string (nullable = true)\n",
      " |-- organization: string (nullable = true)\n",
      " |-- state: string (nullable = true)\n",
      " |-- city: string (nullable = true)\n",
      "\n"
     ]
    }
   ],
   "source": [
    "vaccines_df_joined = vaccines_df.join(health_institution_table_DF, \\\n",
    "                                      [vaccines_df.estalecimento_nofantasia == health_institution_table_DF.name,\\\n",
    "                                      vaccines_df.estabelecimento_razaosocial == health_institution_table_DF.organization])\n",
    "\n",
    "vaccines_df_joined.printSchema()"
   ]
  },
  {
   "cell_type": "code",
   "execution_count": 22,
   "metadata": {
    "editable": true
   },
   "outputs": [
    {
     "name": "stdout",
     "output_type": "stream",
     "text": [
      "root\n",
      " |-- patient_id: string (nullable = true)\n",
      " |-- health_institution_id: long (nullable = true)\n",
      " |-- category_id: string (nullable = false)\n",
      " |-- population_group_id: string (nullable = true)\n",
      " |-- vaccines_id: string (nullable = true)\n",
      " |-- jab_date: string (nullable = true)\n",
      "\n"
     ]
    }
   ],
   "source": [
    "# Create Patient table and write parquet files\n",
    "vaccines_df_joined.createOrReplaceTempView(\"imunization_table_DF\")\n",
    "imunization_table_DF = spark.sql(\"\"\"\n",
    "    SELECT distinct paciente_id AS patient_id,\n",
    "            id AS health_institution_id,\n",
    "            vacina_categoria_codigo AS category_id,\n",
    "            vacina_grupoatendimento_codigo AS population_group_id,\n",
    "            vacina_codigo AS vaccines_id,\n",
    "            vacina_dataaplicacao AS jab_date\n",
    "        FROM imunization_table_DF\n",
    "        ORDER BY jab_date\n",
    "\"\"\")\n",
    "\n",
    "imunization_table_DF.printSchema()"
   ]
  },
  {
   "cell_type": "code",
   "execution_count": 23,
   "metadata": {
    "editable": true
   },
   "outputs": [
    {
     "name": "stdout",
     "output_type": "stream",
     "text": [
      "Writing imunization Table DONE.\n"
     ]
    }
   ],
   "source": [
    "# Write parquet file and get back to Spark:\n",
    "write_parquet(imunization_table_DF, 'imunization')\n",
    "imunization_table_DF = read_parquet('imunization')"
   ]
  },
  {
   "cell_type": "code",
   "execution_count": 24,
   "metadata": {
    "editable": true
   },
   "outputs": [
    {
     "name": "stdout",
     "output_type": "stream",
     "text": [
      "+--------------------+---------------------+-----------+-------------------+-----------+-------------------+\n",
      "|          patient_id|health_institution_id|category_id|population_group_id|vaccines_id|           jab_date|\n",
      "+--------------------+---------------------+-----------+-------------------+-----------+-------------------+\n",
      "|1e0a0f8549d3f0d4d...|         429496729600|          2|                203|         86|2021-03-29 21:00:00|\n",
      "|4acc91ff29e63517e...|         163208757249|          6|                601|         85|2021-03-29 21:00:00|\n",
      "|c38e7ab6cdb03b114...|         566935683072|          6|                601|         85|2021-03-29 21:00:00|\n",
      "|7c66c5cf8de7570fc...|         618475290624|          2|                203|         86|2021-03-29 21:00:00|\n",
      "|9d341f28d622689d6...|         618475290624|          2|                204|         86|2021-03-29 21:00:00|\n",
      "|378809f96d3f0ded7...|         781684047872|          6|                601|         85|2021-03-29 21:00:00|\n",
      "|2ac4028a431da5bc6...|         773094113280|          2|                203|         86|2021-03-29 21:00:00|\n",
      "|10b3cd43e89d6f116...|         721554505728|          2|                203|         86|2021-03-29 21:00:00|\n",
      "|697976d11cf0fca8b...|         566935683072|          6|                601|         85|2021-03-29 21:00:00|\n",
      "|15b969fa32b124767...|        1039382085632|          2|                203|         86|2021-03-29 21:00:00|\n",
      "|014d4147b3c1cde08...|         566935683072|          6|                601|         85|2021-03-29 21:00:00|\n",
      "|7a8f8938692a4ab4b...|         781684047872|          6|                601|         85|2021-03-29 21:00:00|\n",
      "|759333c20c043dae2...|        1546188226560|          2|                205|         86|2021-03-29 21:00:00|\n",
      "|42b79a4aa0bb3d2f1...|         163208757249|          6|                601|         85|2021-03-29 21:00:00|\n",
      "|ceb79005a9f9c1448...|         566935683072|          6|                601|         85|2021-03-29 21:00:00|\n",
      "|1ddf8d58957698a98...|         317827579904|          2|                202|         86|2021-03-29 21:00:00|\n",
      "|5945ea93559d48bdc...|         163208757249|          6|                601|         85|2021-03-29 21:00:00|\n",
      "|3cd47b4475633ab91...|          34359738368|          2|                202|         86|2021-03-29 21:00:00|\n",
      "|5354b87ec619ad3f4...|        1271310319616|          2|                203|         86|2021-03-29 21:00:00|\n",
      "|e58d257e23f512406...|        1168231104512|          2|                203|         86|2021-03-29 21:00:00|\n",
      "+--------------------+---------------------+-----------+-------------------+-----------+-------------------+\n",
      "only showing top 20 rows\n",
      "\n"
     ]
    }
   ],
   "source": [
    "imunization_table_DF.show()"
   ]
  },
  {
   "cell_type": "code",
   "execution_count": null,
   "metadata": {
    "editable": true
   },
   "outputs": [],
   "source": []
  }
 ],
 "metadata": {
  "interpreter": {
   "hash": "60f08008ae04b0180d9de48a4e6c46fd1dc6f0039899f9ca67c2a7ee0fcf33e7"
  },
  "kernelspec": {
   "display_name": "Python 3",
   "language": "python",
   "name": "python3"
  },
  "language_info": {
   "codemirror_mode": {
    "name": "ipython",
    "version": 3
   },
   "file_extension": ".py",
   "mimetype": "text/x-python",
   "name": "python",
   "nbconvert_exporter": "python",
   "pygments_lexer": "ipython3",
   "version": "3.6.3"
  }
 },
 "nbformat": 4,
 "nbformat_minor": 5
}
