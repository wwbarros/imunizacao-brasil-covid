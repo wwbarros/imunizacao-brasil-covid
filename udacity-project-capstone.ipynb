{
 "cells": [
  {
   "cell_type": "markdown",
   "metadata": {
    "editable": true
   },
   "source": [
    "# Data Engineering Capstone Project"
   ]
  },
  {
   "cell_type": "markdown",
   "metadata": {
    "editable": true
   },
   "source": [
    "## Enviroment setup"
   ]
  },
  {
   "cell_type": "code",
   "execution_count": null,
   "metadata": {
    "editable": true
   },
   "outputs": [],
   "source": [
    "# Import necessary libraries\n",
    "import pandas as pd\n",
    "from pyspark.sql import SparkSession\n",
    "from pyspark.sql.functions import monotonically_increasing_id as mono_id\n",
    "from pyspark.sql.functions import row_number\n",
    "import configparser"
   ]
  },
  {
   "cell_type": "code",
   "execution_count": null,
   "metadata": {
    "editable": true
   },
   "outputs": [],
   "source": [
    "# Read config file\n",
    "config = configparser.ConfigParser()\n",
    "config.read_file(open('dl.cfg'))\n",
    "\n",
    "INPUT_DATA = config['LOCAL']['INPUT_DATA']\n",
    "INPUT_DATA_VACCINES = config['LOCAL']['INPUT_DATA_VACCINES']\n",
    "OUTPUT_DATA = config['LOCAL']['OUTPUT_DATA']\n",
    "DATA_COLUMNS = config['COMMON']['DATA_COLUMNS']"
   ]
  },
  {
   "cell_type": "code",
   "execution_count": null,
   "metadata": {
    "editable": true
   },
   "outputs": [],
   "source": [
    "# Spark session\n",
    "spark = SparkSession \\\n",
    "        .builder\\\n",
    "        .getOrCreate()"
   ]
  },
  {
   "cell_type": "code",
   "execution_count": null,
   "metadata": {
    "editable": true
   },
   "outputs": [],
   "source": [
    "def write_parquet(df, parquet_name):\n",
    "    parquet_path = OUTPUT_DATA + f'{parquet_name}.parquet'\n",
    "    df.write.mode(\"overwrite\").parquet(parquet_path)\n",
    "    print(f'Writing {parquet_name} Table DONE.')\n",
    "    \n",
    "    # Read parquet file back to Spark\n",
    "    return spark.read.parquet(parquet_path)\n"
   ]
  },
  {
   "cell_type": "markdown",
   "metadata": {
    "editable": true
   },
   "source": [
    "## Step 1: Scope the Project and Gather Data\r\n",
    "In this step, we’ll:\r\n",
    "\r\n",
    "* Identify and gather the data we'll be using for our project (at least two sources and more than 1 million rows).\r\n",
    "* Explain what end use cases we'd like to prepare the data for (e.g., analytics table, app back-end, source-of-truth database, etc.)\r\n",
    "\r\n",
    "We choose the following datasets:\r\n",
    "* Brazilian Government' dataset [COVID-19 population imunization program](https://dados.gov.br/dataset/covid-19-vacinacao/resource/ef3bd0b8-b605-474b-9ae5-c97390c197a8?inner_span=True)"
   ]
  },
  {
   "cell_type": "code",
   "execution_count": null,
   "metadata": {
    "editable": true
   },
   "outputs": [],
   "source": [
    "vaccines_df = spark.read.csv(INPUT_DATA_VACCINES, sep=';', header=True)\n",
    "\n",
    "vaccines_df.printSchema()"
   ]
  },
  {
   "cell_type": "markdown",
   "metadata": {
    "editable": true
   },
   "source": [
    "## Step 2: Explore and Assess the Data\r\n",
    "In this step we need:\r\n",
    "* Explore the data to identify data quality issues, like missing values, duplicate data, etc.\r\n",
    "* Document steps necessary to clean the data"
   ]
  },
  {
   "cell_type": "code",
   "execution_count": null,
   "metadata": {
    "editable": true
   },
   "outputs": [],
   "source": [
    "# Read the data dictionary from JSON and extract the valid columns\n",
    "col_names = pd.read_json(DATA_COLUMNS, typ='series')\n",
    "valid_columns = col_names.index\n",
    "valid_columns"
   ]
  },
  {
   "cell_type": "code",
   "execution_count": null,
   "metadata": {
    "editable": true
   },
   "outputs": [],
   "source": [
    "# Get the difference between the dataframe colums and the valid columns\n",
    "columns_todrop = list(set(vaccines_df.columns) - set(valid_columns))\n",
    "\n",
    "columns_todrop"
   ]
  },
  {
   "cell_type": "code",
   "execution_count": null,
   "metadata": {
    "editable": true
   },
   "outputs": [],
   "source": [
    "# Remove unused columns from dataframe\n",
    "vaccines_df = vaccines_df.drop(*columns_todrop)\n",
    "vaccines_df.printSchema()"
   ]
  },
  {
   "cell_type": "code",
   "execution_count": null,
   "metadata": {
    "editable": true
   },
   "outputs": [],
   "source": [
    "# Replace the null values\n",
    "vaccines_df = vaccines_df.fillna(\\\n",
    "    {\\\n",
    "        'vacina_categoria_codigo': 0, \\\n",
    "        'vacina_categoria_nome': 'N/A', \\\n",
    "        'vacina_grupoatendimento_nome': 'N/A', \\\n",
    "        'paciente_enumsexobiologico': 'N/A',\\\n",
    "        'estalecimento_nofantasia': 'N/A'\n",
    "    })"
   ]
  },
  {
   "cell_type": "markdown",
   "metadata": {
    "editable": true
   },
   "source": [
    "## Step 3: Define the Data Model\r\n",
    "* Map out the conceptual data model and explain why you chose that model\r\n",
    "* List the steps necessary to pipeline the data into the chosen data model"
   ]
  },
  {
   "cell_type": "code",
   "execution_count": null,
   "metadata": {
    "editable": true
   },
   "outputs": [],
   "source": []
  },
  {
   "cell_type": "markdown",
   "metadata": {
    "editable": true
   },
   "source": [
    "## Step 4: Run ETL to Model the Data\r\n",
    "* Create the data pipelines and the data model\r\n",
    "* Include a data dictionary\r\n",
    "* Run data quality checks to ensure the pipeline ran as expected\r\n",
    "\t* Integrity constraints on the relational database (e.g., unique key, data type, etc.)\r\n",
    "\t* Unit tests for the scripts to ensure they are doing the right thing\r\n",
    "\t* Source/count checks to ensure completeness"
   ]
  },
  {
   "cell_type": "code",
   "execution_count": null,
   "metadata": {
    "editable": true
   },
   "outputs": [],
   "source": [
    "# Create vaccines table and write parquet files\n",
    "vaccines_df.createOrReplaceTempView(\"vaccines_table_DF\")\n",
    "vaccines_table_DF = spark.sql(\"\"\"\n",
    "    SELECT  DISTINCT vacina_codigo AS id, \n",
    "                     vacina_nome AS name, \n",
    "                     vacina_fabricante_nome AS supplier\n",
    "    FROM vaccines_table_DF\n",
    "    ORDER BY supplier\n",
    "\"\"\")\n",
    "\n",
    "vaccines_table_DF.printSchema()\n",
    "vaccines_table_DF.show()"
   ]
  },
  {
   "cell_type": "code",
   "execution_count": null,
   "metadata": {
    "editable": true
   },
   "outputs": [],
   "source": [
    "# Write parquet file and get back to Spark:\n",
    "vaccines_table_DF = write_parquet(vaccines_table_DF, 'vaccines')"
   ]
  },
  {
   "cell_type": "code",
   "execution_count": null,
   "metadata": {
    "editable": true
   },
   "outputs": [],
   "source": [
    "# Create Health Institution table and write parquet files\n",
    "vaccines_df.createOrReplaceTempView(\"health_institution_table_DF\")\n",
    "health_institution_table_DF = spark.sql(\"\"\"\n",
    "    SELECT DISTINCT estalecimento_nofantasia AS name,\n",
    "                    estabelecimento_razaosocial AS organization,\n",
    "                    estabelecimento_uf AS state,\n",
    "                    estabelecimento_municipio_nome AS city\n",
    "    FROM health_institution_table_DF\n",
    "    ORDER BY name\n",
    "\"\"\")\n",
    "\n",
    "health_institution_table_DF = health_institution_table_DF.select(mono_id().alias('id'), '*')\n",
    "health_institution_table_DF.printSchema()\n",
    "health_institution_table_DF.show()"
   ]
  },
  {
   "cell_type": "code",
   "execution_count": null,
   "metadata": {
    "editable": true
   },
   "outputs": [],
   "source": [
    "# Write parquet file and get back to Spark:\n",
    "health_institution_table_DF = write_parquet(health_institution_table_DF, 'health_institution')"
   ]
  },
  {
   "cell_type": "code",
   "execution_count": null,
   "metadata": {
    "editable": true
   },
   "outputs": [],
   "source": [
    "# Create Category table and write parquet files\n",
    "vaccines_df.createOrReplaceTempView(\"category_table_DF\")\n",
    "category_table_DF = spark.sql(\"\"\"\n",
    "    SELECT DISTINCT vacina_categoria_codigo AS id,\n",
    "                    vacina_categoria_nome AS name\n",
    "            FROM category_table_DF\n",
    "            ORDER BY name\n",
    "\"\"\")\n",
    "\n",
    "category_table_DF.printSchema()\n",
    "category_table_DF.show()"
   ]
  },
  {
   "cell_type": "code",
   "execution_count": null,
   "metadata": {
    "editable": true
   },
   "outputs": [],
   "source": [
    "# Write parquet file and get back to Spark:\n",
    "category_table_DF = write_parquet(category_table_DF, 'category')"
   ]
  },
  {
   "cell_type": "code",
   "execution_count": null,
   "metadata": {
    "editable": true
   },
   "outputs": [],
   "source": [
    "# Create Population Groups table and write parquet files\n",
    "vaccines_df.createOrReplaceTempView(\"population_group_table_DF\")\n",
    "population_group_table_DF = spark.sql(\"\"\"\n",
    "    SELECT DISTINCT vacina_grupoatendimento_codigo AS id,\n",
    "                    vacina_grupoatendimento_nome AS name\n",
    "            FROM population_group_table_DF\n",
    "        ORDER BY name\n",
    "\"\"\")\n",
    "\n",
    "population_group_table_DF.printSchema()\n",
    "population_group_table_DF.show()"
   ]
  },
  {
   "cell_type": "code",
   "execution_count": null,
   "metadata": {
    "editable": true
   },
   "outputs": [],
   "source": [
    "# Write parquet file and get back to Spark:\n",
    "population_group_table_DF = write_parquet(population_group_table_DF, 'population_group')"
   ]
  },
  {
   "cell_type": "code",
   "execution_count": null,
   "metadata": {
    "editable": true
   },
   "outputs": [],
   "source": [
    "# Create Patient table and write parquet files\n",
    "vaccines_df.createOrReplaceTempView(\"patient_table_DF\")\n",
    "patient_table_DF = spark.sql(\"\"\"\n",
    "    SELECT DISTINCT paciente_id AS id,\n",
    "                    paciente_idade AS age,\n",
    "                    paciente_datanascimento AS birthdate,\n",
    "                    paciente_enumsexobiologico AS gender,\n",
    "                    paciente_endereco_nmpais AS country,\n",
    "                    paciente_endereco_uf AS state,\n",
    "                    paciente_endereco_nmmunicipio AS city\n",
    "            FROM patient_table_DF\n",
    "            WHERE paciente_id IS NOT NULL\n",
    "            ORDER BY id\n",
    "\"\"\")\n",
    "\n",
    "patient_table_DF.printSchema()\n",
    "patient_table_DF.show()"
   ]
  },
  {
   "cell_type": "code",
   "execution_count": null,
   "metadata": {
    "editable": true
   },
   "outputs": [],
   "source": [
    "# Write parquet file and get back to Spark:\n",
    "patient_table_DF = write_parquet(patient_table_DF, 'patient')"
   ]
  },
  {
   "cell_type": "code",
   "execution_count": null,
   "metadata": {
    "editable": true
   },
   "outputs": [],
   "source": [
    "vaccines_df_joined = vaccines_df.join(health_institution_table_DF, \\\n",
    "                                      [vaccines_df.estalecimento_nofantasia == health_institution_table_DF.name,\\\n",
    "                                      vaccines_df.estabelecimento_razaosocial == health_institution_table_DF.organization])\n",
    "\n",
    "vaccines_df_joined.printSchema()"
   ]
  },
  {
   "cell_type": "code",
   "execution_count": null,
   "metadata": {
    "editable": true
   },
   "outputs": [],
   "source": []
  }
 ],
 "metadata": {
  "interpreter": {
   "hash": "e3babd7ac79e0887df5a9e3ee8123f217b43f09743b73590444977beefbb8a7a"
  },
  "kernelspec": {
   "display_name": "Python 3",
   "language": "python",
   "name": "python3"
  },
  "language_info": {
   "codemirror_mode": {
    "name": "ipython",
    "version": 3
   },
   "file_extension": ".py",
   "mimetype": "text/x-python",
   "name": "python",
   "nbconvert_exporter": "python",
   "pygments_lexer": "ipython3",
   "version": "3.6.3"
  }
 },
 "nbformat": 4,
 "nbformat_minor": 5
}
