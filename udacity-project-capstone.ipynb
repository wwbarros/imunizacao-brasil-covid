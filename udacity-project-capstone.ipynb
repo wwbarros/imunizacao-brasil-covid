{
 "cells": [
  {
   "cell_type": "markdown",
   "source": [
    "# Data Engineering Capstone Project"
   ],
   "metadata": {
    "editable": true
   }
  },
  {
   "cell_type": "markdown",
   "source": [
    "## Enviroment setup"
   ],
   "metadata": {
    "editable": true
   }
  },
  {
   "cell_type": "code",
   "execution_count": 1,
   "source": [
    "# Import necessary libraries\n",
    "import pandas as pd\n",
    "from pyspark.sql import SparkSession\n",
    "from pyspark.sql.functions import monotonically_increasing_id as mono_id\n",
    "from pyspark.sql.functions import row_number\n",
    "import configparser"
   ],
   "outputs": [],
   "metadata": {
    "editable": true
   }
  },
  {
   "cell_type": "code",
   "execution_count": 2,
   "source": [
    "# Read config file\n",
    "config = configparser.ConfigParser()\n",
    "config.read_file(open('dl.cfg'))\n",
    "\n",
    "INPUT_DATA = config['LOCAL']['INPUT_DATA']\n",
    "INPUT_DATA_VACCINES = config['LOCAL']['INPUT_DATA_VACCINES']\n",
    "OUTPUT_DATA = config['LOCAL']['OUTPUT_DATA']\n",
    "DATA_COLUMNS = config['COMMON']['DATA_COLUMNS']"
   ],
   "outputs": [],
   "metadata": {
    "editable": true
   }
  },
  {
   "cell_type": "code",
   "execution_count": 3,
   "source": [
    "# Spark session\n",
    "spark = SparkSession \\\n",
    "        .builder\\\n",
    "        .getOrCreate()"
   ],
   "outputs": [],
   "metadata": {
    "editable": true
   }
  },
  {
   "cell_type": "code",
   "execution_count": 4,
   "source": [
    "def write_parquet(df, parquet_name):\n",
    "    parquet_path = OUTPUT_DATA + f'{parquet_name}.parquet'\n",
    "    df.write.mode(\"overwrite\").parquet(parquet_path)\n",
    "    print(f'Writing {parquet_name} Table DONE.')\n",
    "    \n",
    "    # Read parquet file back to Spark\n",
    "    return spark.read.parquet(parquet_path)\n"
   ],
   "outputs": [],
   "metadata": {
    "editable": true
   }
  },
  {
   "cell_type": "markdown",
   "source": [
    "## Step 1: Scope the Project and Gather Data\r\n",
    "In this step, we’ll:\r\n",
    "\r\n",
    "* Identify and gather the data we'll be using for our project (at least two sources and more than 1 million rows).\r\n",
    "* Explain what end use cases we'd like to prepare the data for (e.g., analytics table, app back-end, source-of-truth database, etc.)\r\n",
    "\r\n",
    "We choose the following datasets:\r\n",
    "* Brazilian Government' dataset [COVID-19 population imunization program](https://dados.gov.br/dataset/covid-19-vacinacao/resource/ef3bd0b8-b605-474b-9ae5-c97390c197a8?inner_span=True)"
   ],
   "metadata": {
    "editable": true
   }
  },
  {
   "cell_type": "code",
   "execution_count": 5,
   "source": [
    "vaccines_df = spark.read.csv(INPUT_DATA_VACCINES, sep=';', header=True)\n",
    "\n",
    "vaccines_df.printSchema()"
   ],
   "outputs": [
    {
     "output_type": "stream",
     "name": "stdout",
     "text": [
      "root\n",
      " |-- document_id: string (nullable = true)\n",
      " |-- paciente_id: string (nullable = true)\n",
      " |-- paciente_idade: string (nullable = true)\n",
      " |-- paciente_datanascimento: string (nullable = true)\n",
      " |-- paciente_enumsexobiologico: string (nullable = true)\n",
      " |-- paciente_racacor_codigo: string (nullable = true)\n",
      " |-- paciente_racacor_valor: string (nullable = true)\n",
      " |-- paciente_endereco_coibgemunicipio: string (nullable = true)\n",
      " |-- paciente_endereco_copais: string (nullable = true)\n",
      " |-- paciente_endereco_nmmunicipio: string (nullable = true)\n",
      " |-- paciente_endereco_nmpais: string (nullable = true)\n",
      " |-- paciente_endereco_uf: string (nullable = true)\n",
      " |-- paciente_endereco_cep: string (nullable = true)\n",
      " |-- paciente_nacionalidade_enumnacionalidade: string (nullable = true)\n",
      " |-- estabelecimento_valor: string (nullable = true)\n",
      " |-- estabelecimento_razaosocial: string (nullable = true)\n",
      " |-- estalecimento_nofantasia: string (nullable = true)\n",
      " |-- estabelecimento_municipio_codigo: string (nullable = true)\n",
      " |-- estabelecimento_municipio_nome: string (nullable = true)\n",
      " |-- estabelecimento_uf: string (nullable = true)\n",
      " |-- vacina_grupoatendimento_codigo: string (nullable = true)\n",
      " |-- vacina_grupoatendimento_nome: string (nullable = true)\n",
      " |-- vacina_categoria_codigo: string (nullable = true)\n",
      " |-- vacina_categoria_nome: string (nullable = true)\n",
      " |-- vacina_lote: string (nullable = true)\n",
      " |-- vacina_fabricante_nome: string (nullable = true)\n",
      " |-- vacina_fabricante_referencia: string (nullable = true)\n",
      " |-- vacina_dataaplicacao: string (nullable = true)\n",
      " |-- vacina_descricao_dose: string (nullable = true)\n",
      " |-- vacina_codigo: string (nullable = true)\n",
      " |-- vacina_nome: string (nullable = true)\n",
      " |-- sistema_origem: string (nullable = true)\n",
      " |-- data_importacao_rnds: string (nullable = true)\n",
      " |-- id_sistema_origem: string (nullable = true)\n",
      "\n"
     ]
    }
   ],
   "metadata": {
    "editable": true
   }
  },
  {
   "cell_type": "markdown",
   "source": [
    "## Step 2: Explore and Assess the Data\r\n",
    "In this step we need:\r\n",
    "* Explore the data to identify data quality issues, like missing values, duplicate data, etc.\r\n",
    "* Document steps necessary to clean the data"
   ],
   "metadata": {
    "editable": true
   }
  },
  {
   "cell_type": "code",
   "execution_count": 6,
   "source": [
    "# Read the data dictionary from JSON and extract the valid columns\n",
    "col_names = pd.read_json(DATA_COLUMNS, typ='series')\n",
    "valid_columns = col_names.index\n",
    "valid_columns"
   ],
   "outputs": [
    {
     "output_type": "execute_result",
     "data": {
      "text/plain": [
       "Index(['paciente_id', 'paciente_idade', 'paciente_datanascimento',\n",
       "       'paciente_enumsexobiologico', 'paciente_endereco_nmpais',\n",
       "       'paciente_endereco_uf', 'paciente_endereco_nmmunicipio',\n",
       "       'estabelecimento_razaosocial', 'estalecimento_nofantasia',\n",
       "       'estabelecimento_uf', 'estabelecimento_municipio_nome',\n",
       "       'vacina_categoria_codigo', 'vacina_categoria_nome',\n",
       "       'vacina_grupoatendimento_codigo', 'vacina_grupoatendimento_nome',\n",
       "       'vacina_fabricante_nome', 'vacina_codigo', 'vacina_nome',\n",
       "       'vacina_dataaplicacao'],\n",
       "      dtype='object')"
      ]
     },
     "metadata": {},
     "execution_count": 6
    }
   ],
   "metadata": {
    "editable": true
   }
  },
  {
   "cell_type": "code",
   "execution_count": 7,
   "source": [
    "# Get the difference between the dataframe colums and the valid columns\n",
    "columns_todrop = list(set(vaccines_df.columns) - set(valid_columns))\n",
    "\n",
    "columns_todrop"
   ],
   "outputs": [
    {
     "output_type": "execute_result",
     "data": {
      "text/plain": [
       "['paciente_endereco_copais',\n",
       " 'paciente_endereco_cep',\n",
       " 'paciente_nacionalidade_enumnacionalidade',\n",
       " 'id_sistema_origem',\n",
       " 'vacina_fabricante_referencia',\n",
       " 'paciente_endereco_coibgemunicipio',\n",
       " 'estabelecimento_valor',\n",
       " 'sistema_origem',\n",
       " 'document_id',\n",
       " 'vacina_descricao_dose',\n",
       " 'estabelecimento_municipio_codigo',\n",
       " 'data_importacao_rnds',\n",
       " 'paciente_racacor_valor',\n",
       " 'paciente_racacor_codigo',\n",
       " 'vacina_lote']"
      ]
     },
     "metadata": {},
     "execution_count": 7
    }
   ],
   "metadata": {
    "editable": true
   }
  },
  {
   "cell_type": "code",
   "execution_count": 8,
   "source": [
    "# Remove unused columns from dataframe\n",
    "vaccines_df = vaccines_df.drop(*columns_todrop)\n",
    "vaccines_df.printSchema()"
   ],
   "outputs": [
    {
     "output_type": "stream",
     "name": "stdout",
     "text": [
      "root\n",
      " |-- paciente_id: string (nullable = true)\n",
      " |-- paciente_idade: string (nullable = true)\n",
      " |-- paciente_datanascimento: string (nullable = true)\n",
      " |-- paciente_enumsexobiologico: string (nullable = true)\n",
      " |-- paciente_endereco_nmmunicipio: string (nullable = true)\n",
      " |-- paciente_endereco_nmpais: string (nullable = true)\n",
      " |-- paciente_endereco_uf: string (nullable = true)\n",
      " |-- estabelecimento_razaosocial: string (nullable = true)\n",
      " |-- estalecimento_nofantasia: string (nullable = true)\n",
      " |-- estabelecimento_municipio_nome: string (nullable = true)\n",
      " |-- estabelecimento_uf: string (nullable = true)\n",
      " |-- vacina_grupoatendimento_codigo: string (nullable = true)\n",
      " |-- vacina_grupoatendimento_nome: string (nullable = true)\n",
      " |-- vacina_categoria_codigo: string (nullable = true)\n",
      " |-- vacina_categoria_nome: string (nullable = true)\n",
      " |-- vacina_fabricante_nome: string (nullable = true)\n",
      " |-- vacina_dataaplicacao: string (nullable = true)\n",
      " |-- vacina_codigo: string (nullable = true)\n",
      " |-- vacina_nome: string (nullable = true)\n",
      "\n"
     ]
    }
   ],
   "metadata": {
    "editable": true
   }
  },
  {
   "cell_type": "code",
   "execution_count": 9,
   "source": [
    "# Replace the null values\n",
    "vaccines_df = vaccines_df.fillna(\\\n",
    "    {\\\n",
    "        'vacina_categoria_codigo': 0, \\\n",
    "        'vacina_categoria_nome': 'N/A', \\\n",
    "        'vacina_grupoatendimento_nome': 'N/A', \\\n",
    "        'paciente_enumsexobiologico': 'N/A',\\\n",
    "        'estalecimento_nofantasia': 'N/A'\n",
    "    })"
   ],
   "outputs": [],
   "metadata": {
    "editable": true
   }
  },
  {
   "cell_type": "markdown",
   "source": [
    "## Step 3: Define the Data Model\r\n",
    "* Map out the conceptual data model and explain why you chose that model\r\n",
    "* List the steps necessary to pipeline the data into the chosen data model"
   ],
   "metadata": {
    "editable": true
   }
  },
  {
   "cell_type": "code",
   "execution_count": null,
   "source": [],
   "outputs": [],
   "metadata": {
    "editable": true
   }
  },
  {
   "cell_type": "markdown",
   "source": [
    "## Step 4: Run ETL to Model the Data\r\n",
    "* Create the data pipelines and the data model\r\n",
    "* Include a data dictionary\r\n",
    "* Run data quality checks to ensure the pipeline ran as expected\r\n",
    "\t* Integrity constraints on the relational database (e.g., unique key, data type, etc.)\r\n",
    "\t* Unit tests for the scripts to ensure they are doing the right thing\r\n",
    "\t* Source/count checks to ensure completeness"
   ],
   "metadata": {
    "editable": true
   }
  },
  {
   "cell_type": "code",
   "execution_count": 10,
   "source": [
    "# Create vaccines table and write parquet files\n",
    "vaccines_df.createOrReplaceTempView(\"vaccines_table_DF\")\n",
    "vaccines_table_DF = spark.sql(\"\"\"\n",
    "    SELECT  DISTINCT vacina_codigo AS id, \n",
    "                     vacina_nome AS name, \n",
    "                     vacina_fabricante_nome AS supplier\n",
    "    FROM vaccines_table_DF\n",
    "    ORDER BY supplier\n",
    "\"\"\")\n",
    "\n",
    "vaccines_table_DF.printSchema()\n",
    "vaccines_table_DF.show()"
   ],
   "outputs": [
    {
     "output_type": "stream",
     "name": "stdout",
     "text": [
      "root\n",
      " |-- id: string (nullable = true)\n",
      " |-- name: string (nullable = true)\n",
      " |-- supplier: string (nullable = true)\n",
      "\n",
      "+---+--------------------+--------------------+\n",
      "| id|                name|            supplier|\n",
      "+---+--------------------+--------------------+\n",
      "| 87|Vacina covid-19 -...|BioNTech/Fosun Ph...|\n",
      "| 86|Covid-19-Coronava...|   FUNDACAO BUTANTAN|\n",
      "| 85|Vacina Covid-19 -...|FUNDACAO OSWALDO ...|\n",
      "| 86|Covid-19-Coronava...|FUNDACAO OSWALDO ...|\n",
      "| 88|Vacina covid-19 -...|       Janssen-Cilag|\n",
      "| 89|Covid-19-AstraZeneca| MINISTERIO DA SAUDE|\n",
      "| 87|Vacina covid-19 -...| MINISTERIO DA SAUDE|\n",
      "| 88|Vacina covid-19 -...| MINISTERIO DA SAUDE|\n",
      "| 86|Covid-19-Coronava...|SERUM INSTITUTE O...|\n",
      "| 85|Vacina Covid-19 -...|SINOVAC LIFE SCIE...|\n",
      "+---+--------------------+--------------------+\n",
      "\n"
     ]
    }
   ],
   "metadata": {
    "editable": true
   }
  },
  {
   "cell_type": "code",
   "execution_count": 11,
   "source": [
    "# Write parquet file and get back to Spark:\n",
    "vaccines_table_DF = write_parquet(vaccines_table_DF, 'vaccines')"
   ],
   "outputs": [
    {
     "output_type": "stream",
     "name": "stdout",
     "text": [
      "Writing vaccines Table DONE.\n"
     ]
    }
   ],
   "metadata": {
    "editable": true
   }
  },
  {
   "cell_type": "code",
   "execution_count": 12,
   "source": [
    "# Create Health Institution table and write parquet files\n",
    "vaccines_df.createOrReplaceTempView(\"health_institution_table_DF\")\n",
    "health_institution_table_DF = spark.sql(\"\"\"\n",
    "    SELECT DISTINCT estalecimento_nofantasia AS name,\n",
    "                    estabelecimento_razaosocial AS organization,\n",
    "                    estabelecimento_uf AS state,\n",
    "                    estabelecimento_municipio_nome AS city\n",
    "    FROM health_institution_table_DF\n",
    "    ORDER BY name\n",
    "\"\"\")\n",
    "\n",
    "health_institution_table_DF = health_institution_table_DF.select(mono_id().alias('id'), '*')\n",
    "health_institution_table_DF.printSchema()\n",
    "health_institution_table_DF.show()"
   ],
   "outputs": [
    {
     "output_type": "stream",
     "name": "stdout",
     "text": [
      "root\n",
      " |-- id: long (nullable = false)\n",
      " |-- name: string (nullable = false)\n",
      " |-- organization: string (nullable = true)\n",
      " |-- state: string (nullable = true)\n",
      " |-- city: string (nullable = true)\n",
      "\n",
      "+-----------+--------------------+--------------------+-----+--------------------+\n",
      "|         id|                name|        organization|state|                city|\n",
      "+-----------+--------------------+--------------------+-----+--------------------+\n",
      "|          0|AMBULATORIO MUNIC...|PREFEITURA MUNICI...|   MA|     POCAO DE PEDRAS|\n",
      "|          1|C SAUDE BACELAR V...|PREFEITURA MUNICI...|   MA|           PIRAPEMAS|\n",
      "|          2|CEADIM DE SERRANO...|MUNICIPIO DE SERR...|   MA| SERRANO DO MARANHAO|\n",
      "|          3|CENTRO DE ATENDIM...|PREFEITURA MUNICI...|   MA|       VARGEM GRANDE|\n",
      "|          4|CENTRO DE ATENDIM...|PREFEITURA MUNICI...|   MA|  ITINGA DO MARANHAO|\n",
      "| 8589934592|CENTRO DE ATENDIM...|PREFEITURA MUNICI...|   MA|              MONCAO|\n",
      "| 8589934593|CENTRO DE ESPECIA...|PREFEITURA MUNICI...|   MA|     BARAO DE GRAJAU|\n",
      "| 8589934594|CENTRO DE ESPECIA...|PREFEITURA MUNICI...|   MA|            PINHEIRO|\n",
      "| 8589934595|CENTRO DE PARTO N...|PREFEITURA MUNICI...|   MA|          BURITICUPU|\n",
      "| 8589934596|CENTRO DE REFEREN...|PREFEITURA MUNICI...|   MA|            TIMBIRAS|\n",
      "|17179869184|CENTRO DE SAUDE 1...|PREFEITURA MUNICI...|   MA|           PARNARAMA|\n",
      "|17179869185|CENTRO DE SAUDE A...|PREFEITURA MUNICI...|   MA|    CACHOEIRA GRANDE|\n",
      "|17179869186|CENTRO DE SAUDE A...|MUNICIPIO DE URBA...|   MA|       URBANO SANTOS|\n",
      "|17179869187|CENTRO DE SAUDE A...|PREFEITURA MUNICI...|   MA|             BACABAL|\n",
      "|25769803776|CENTRO DE SAUDE A...|PREFEITURA MUNICI...|   MA|       LAGO DO JUNCO|\n",
      "|25769803777|CENTRO DE SAUDE A...|PREFEITURA MUNICI...|   MA|             BACABAL|\n",
      "|25769803778|CENTRO DE SAUDE AMAR|SECRETARIA MUNICI...|   MA|            SAO LUIS|\n",
      "|25769803779|CENTRO DE SAUDE A...|PREFEITURA MUNICI...|   MA|  SAO VICENTE FERRER|\n",
      "|25769803780|CENTRO DE SAUDE A...|PREFEITURA MUNICI...|   MA|FORTALEZA DOS NOG...|\n",
      "|34359738368|CENTRO DE SAUDE A...|PREFEITURA MUNICI...|   MA|        BURITI BRAVO|\n",
      "+-----------+--------------------+--------------------+-----+--------------------+\n",
      "only showing top 20 rows\n",
      "\n"
     ]
    }
   ],
   "metadata": {
    "editable": true
   }
  },
  {
   "cell_type": "code",
   "execution_count": 13,
   "source": [
    "# Write parquet file and get back to Spark:\n",
    "health_institution_table_DF = write_parquet(health_institution_table_DF, 'health_institution')"
   ],
   "outputs": [
    {
     "output_type": "stream",
     "name": "stdout",
     "text": [
      "Writing health_institution Table DONE.\n"
     ]
    }
   ],
   "metadata": {
    "editable": true
   }
  },
  {
   "cell_type": "code",
   "execution_count": 14,
   "source": [
    "# Create Category table and write parquet files\n",
    "vaccines_df.createOrReplaceTempView(\"category_table_DF\")\n",
    "category_table_DF = spark.sql(\"\"\"\n",
    "    SELECT DISTINCT vacina_categoria_codigo AS id,\n",
    "                    vacina_categoria_nome AS name\n",
    "            FROM category_table_DF\n",
    "            ORDER BY name\n",
    "\"\"\")\n",
    "\n",
    "category_table_DF.printSchema()\n",
    "category_table_DF.show()"
   ],
   "outputs": [
    {
     "output_type": "stream",
     "name": "stdout",
     "text": [
      "root\n",
      " |-- id: string (nullable = false)\n",
      " |-- name: string (nullable = false)\n",
      "\n",
      "+---+--------------------+\n",
      "| id|                name|\n",
      "+---+--------------------+\n",
      "|  1|        Comorbidades|\n",
      "|  2|        Faixa Etária|\n",
      "|  4|Forças Armadas (m...|\n",
      "|  5|Forças de Seguran...|\n",
      "| 14|Funcionário do Si...|\n",
      "| 21|           Gestantes|\n",
      "|  0|                 N/A|\n",
      "|114|              Outros|\n",
      "| 11|Pessoas com Defic...|\n",
      "|  3|Pessoas de 60 ano...|\n",
      "| 12|Pessoas em Situaç...|\n",
      "| 15|População Privada...|\n",
      "|  7|     Povos Indígenas|\n",
      "|  6|Povos e Comunidad...|\n",
      "| 25|           Puérperas|\n",
      "| 16|Trabalhadores Ind...|\n",
      "| 13|Trabalhadores Por...|\n",
      "|  8|Trabalhadores da ...|\n",
      "| 94|Trabalhadores de ...|\n",
      "|  9|Trabalhadores de ...|\n",
      "+---+--------------------+\n",
      "only showing top 20 rows\n",
      "\n"
     ]
    }
   ],
   "metadata": {
    "editable": true
   }
  },
  {
   "cell_type": "code",
   "execution_count": 15,
   "source": [
    "# Write parquet file and get back to Spark:\n",
    "category_table_DF = write_parquet(category_table_DF, 'category')"
   ],
   "outputs": [
    {
     "output_type": "stream",
     "name": "stdout",
     "text": [
      "Writing category Table DONE.\n"
     ]
    }
   ],
   "metadata": {
    "editable": true
   }
  },
  {
   "cell_type": "code",
   "execution_count": 16,
   "source": [
    "# Create Population Groups table and write parquet files\n",
    "vaccines_df.createOrReplaceTempView(\"population_group_table_DF\")\n",
    "population_group_table_DF = spark.sql(\"\"\"\n",
    "    SELECT DISTINCT vacina_grupoatendimento_codigo AS id,\n",
    "                    vacina_grupoatendimento_nome AS name\n",
    "            FROM population_group_table_DF\n",
    "        ORDER BY name\n",
    "\"\"\")\n",
    "\n",
    "population_group_table_DF.printSchema()\n",
    "population_group_table_DF.show()"
   ],
   "outputs": [
    {
     "output_type": "stream",
     "name": "stdout",
     "text": [
      "root\n",
      " |-- id: string (nullable = true)\n",
      " |-- name: string (nullable = false)\n",
      "\n",
      "+------+--------------------+\n",
      "|    id|                name|\n",
      "+------+--------------------+\n",
      "|000929|Acadêmicos/estuda...|\n",
      "|000931|Agente Comunitári...|\n",
      "|000930|Agente de Combate...|\n",
      "|001006|          Aquaviário|\n",
      "|000922|   Assistente Social|\n",
      "|000927|Auxiliar de Enfer...|\n",
      "|000901|Auxiliar de Veter...|\n",
      "|000932|Auxiliar em Saúde...|\n",
      "|001001|               Aéreo|\n",
      "|000903|           Biomédico|\n",
      "|000902|             Biólogo|\n",
      "|000501|      Bombeiro Civil|\n",
      "|000502|    Bombeiro Militar|\n",
      "|001002|        Caminhoneiro|\n",
      "|000114|    Cirrose hepática|\n",
      "|001003|Coletivo Rodoviár...|\n",
      "|000904|Cozinheiro e Auxi...|\n",
      "|000905|  Cuidador de Idosos|\n",
      "|000103|   Diabetes Mellitus|\n",
      "|000105|Doença Renal Crônica|\n",
      "+------+--------------------+\n",
      "only showing top 20 rows\n",
      "\n"
     ]
    }
   ],
   "metadata": {
    "editable": true
   }
  },
  {
   "cell_type": "code",
   "execution_count": 17,
   "source": [
    "# Write parquet file and get back to Spark:\n",
    "population_group_table_DF = write_parquet(population_group_table_DF, 'population_group')"
   ],
   "outputs": [
    {
     "output_type": "stream",
     "name": "stdout",
     "text": [
      "Writing population_group Table DONE.\n"
     ]
    }
   ],
   "metadata": {
    "editable": true
   }
  },
  {
   "cell_type": "code",
   "execution_count": 18,
   "source": [
    "# Create Patient table and write parquet files\n",
    "vaccines_df.createOrReplaceTempView(\"patient_table_DF\")\n",
    "patient_table_DF = spark.sql(\"\"\"\n",
    "    SELECT DISTINCT paciente_id AS id,\n",
    "                    paciente_idade AS age,\n",
    "                    paciente_datanascimento AS birthdate,\n",
    "                    paciente_enumsexobiologico AS gender,\n",
    "                    paciente_endereco_nmpais AS country,\n",
    "                    paciente_endereco_uf AS state,\n",
    "                    paciente_endereco_nmmunicipio AS city\n",
    "            FROM patient_table_DF\n",
    "            WHERE paciente_id IS NOT NULL\n",
    "            ORDER BY id\n",
    "\"\"\")\n",
    "\n",
    "patient_table_DF.printSchema()\n",
    "patient_table_DF.show()"
   ],
   "outputs": [
    {
     "output_type": "stream",
     "name": "stdout",
     "text": [
      "root\n",
      " |-- id: string (nullable = true)\n",
      " |-- age: string (nullable = true)\n",
      " |-- birthdate: string (nullable = true)\n",
      " |-- gender: string (nullable = false)\n",
      " |-- country: string (nullable = true)\n",
      " |-- state: string (nullable = true)\n",
      " |-- city: string (nullable = true)\n",
      "\n",
      "+--------------------+---+----------+------+-------+-----+--------------------+\n",
      "|                  id|age| birthdate|gender|country|state|                city|\n",
      "+--------------------+---+----------+------+-------+-----+--------------------+\n",
      "|0000073e1d449a8f1...| 57|1963-11-03|     M| BRASIL|   MA|            SAO LUIS|\n",
      "|00000c2cb8d0d6da8...| 38|1982-08-19|     F| BRASIL|   MA|          IMPERATRIZ|\n",
      "|00000ee6399e2172e...| 39|1982-02-14|     F| BRASIL|   MA|            SAO LUIS|\n",
      "|0000146ec1364d3a4...| 25|1995-09-15|     F| BRASIL|   MA|            SAO LUIS|\n",
      "|0000196ea219c99b3...| 33|1988-03-22|     M| BRASIL|   MA|      PACO DO LUMIAR|\n",
      "|00001f5e735f9336e...| 31|1990-04-29|     M| BRASIL|   PI|            TERESINA|\n",
      "|000021cece03820ab...| 38|1982-09-24|     M| BRASIL|   MA|FORMOSA DA SERRA ...|\n",
      "|000025290e0d13e39...| 72|1948-12-20|     M| BRASIL|   PI|            PARNAIBA|\n",
      "|00002ed57ee11f694...| 73|1947-12-08|     M| BRASIL|   MA|     ITAPECURU MIRIM|\n",
      "|00004048665fa7966...| 29|1991-12-02|     F| BRASIL|   MA|       LAGO DA PEDRA|\n",
      "|0000512507433b89d...| 40|1980-10-18|     F| BRASIL|   MA|              GRAJAU|\n",
      "|0000528cb2f3c40bd...| 26|1995-03-03|     F| BRASIL|   MA|            SAO LUIS|\n",
      "|000052d5ede67acaa...| 46|1974-08-04|     F| BRASIL|   MA|        AFONSO CUNHA|\n",
      "|0000566bab2772372...| 29|1992-04-13|     M| BRASIL|   MT|              CUIABA|\n",
      "|0000572bf104caf9b...| 44|1976-12-01|     F| BRASIL|   MA|               TIMON|\n",
      "|00005bc6f1f172eb8...| 84|1936-07-26|     F| BRASIL|   MA|          ACAILANDIA|\n",
      "|00005bd5c883c8f69...| 48|1972-12-13|     M| BRASIL|   MA|JENIPAPO DOS VIEIRAS|\n",
      "|00006aa943825c492...| 57|1964-06-02|     M| BRASIL|   MA|               ARAME|\n",
      "|00006fc69d69d1fdb...| 37|1983-12-14|     F| BRASIL|   MA|       PINDARE-MIRIM|\n",
      "|000070d671037aa94...| 45|1975-10-05|     M| BRASIL|   MA|           PARAIBANO|\n",
      "+--------------------+---+----------+------+-------+-----+--------------------+\n",
      "only showing top 20 rows\n",
      "\n"
     ]
    }
   ],
   "metadata": {
    "editable": true
   }
  },
  {
   "cell_type": "code",
   "execution_count": 19,
   "source": [
    "# Write parquet file and get back to Spark:\n",
    "patient_table_DF = write_parquet(patient_table_DF, 'patient')"
   ],
   "outputs": [
    {
     "output_type": "stream",
     "name": "stdout",
     "text": [
      "Writing patient Table DONE.\n"
     ]
    }
   ],
   "metadata": {
    "editable": true
   }
  },
  {
   "cell_type": "code",
   "execution_count": 20,
   "source": [
    "vaccines_df_joined = vaccines_df.join(health_institution_table_DF, \\\n",
    "                                      [vaccines_df.estalecimento_nofantasia == health_institution_table_DF.name,\\\n",
    "                                      vaccines_df.estabelecimento_razaosocial == health_institution_table_DF.organization])\n",
    "\n",
    "vaccines_df_joined.printSchema()"
   ],
   "outputs": [
    {
     "output_type": "stream",
     "name": "stdout",
     "text": [
      "root\n",
      " |-- paciente_id: string (nullable = true)\n",
      " |-- paciente_idade: string (nullable = true)\n",
      " |-- paciente_datanascimento: string (nullable = true)\n",
      " |-- paciente_enumsexobiologico: string (nullable = false)\n",
      " |-- paciente_endereco_nmmunicipio: string (nullable = true)\n",
      " |-- paciente_endereco_nmpais: string (nullable = true)\n",
      " |-- paciente_endereco_uf: string (nullable = true)\n",
      " |-- estabelecimento_razaosocial: string (nullable = true)\n",
      " |-- estalecimento_nofantasia: string (nullable = false)\n",
      " |-- estabelecimento_municipio_nome: string (nullable = true)\n",
      " |-- estabelecimento_uf: string (nullable = true)\n",
      " |-- vacina_grupoatendimento_codigo: string (nullable = true)\n",
      " |-- vacina_grupoatendimento_nome: string (nullable = false)\n",
      " |-- vacina_categoria_codigo: string (nullable = false)\n",
      " |-- vacina_categoria_nome: string (nullable = false)\n",
      " |-- vacina_fabricante_nome: string (nullable = true)\n",
      " |-- vacina_dataaplicacao: string (nullable = true)\n",
      " |-- vacina_codigo: string (nullable = true)\n",
      " |-- vacina_nome: string (nullable = true)\n",
      " |-- id: long (nullable = true)\n",
      " |-- name: string (nullable = true)\n",
      " |-- organization: string (nullable = true)\n",
      " |-- state: string (nullable = true)\n",
      " |-- city: string (nullable = true)\n",
      "\n"
     ]
    }
   ],
   "metadata": {
    "editable": true
   }
  },
  {
   "cell_type": "code",
   "execution_count": 21,
   "source": [
    "# Create Patient table and write parquet files\n",
    "vaccines_df_joined.createOrReplaceTempView(\"imunization_table_DF\")\n",
    "imunization_table_DF = spark.sql(\"\"\"\n",
    "SELECT\n",
    "paciente_id AS patient_id,\n",
    "id AS health_institution_id,\n",
    "vacina_categoria_codigo AS category_id,\n",
    "vacina_grupoatendimento_codigo AS population_group_id,\n",
    "vacina_codigo AS vaccines_id,\n",
    "vacina_dataaplicacao AS jab_date\n",
    "            FROM imunization_table_DF\n",
    "            ORDER BY jab_date\n",
    "\"\"\")\n",
    "\n",
    "imunization_table_DF.printSchema()"
   ],
   "outputs": [
    {
     "output_type": "stream",
     "name": "stdout",
     "text": [
      "root\n",
      " |-- patient_id: string (nullable = true)\n",
      " |-- health_institution_id: long (nullable = true)\n",
      " |-- category_id: string (nullable = false)\n",
      " |-- population_group_id: string (nullable = true)\n",
      " |-- vaccines_id: string (nullable = true)\n",
      " |-- jab_date: string (nullable = true)\n",
      "\n"
     ]
    }
   ],
   "metadata": {
    "editable": true
   }
  },
  {
   "cell_type": "code",
   "execution_count": 22,
   "source": [
    "imunization_table_DF.count()\n",
    "imunization_table_DF.show()"
   ],
   "outputs": [
    {
     "output_type": "stream",
     "name": "stdout",
     "text": [
      "+--------------------+---------------------+-----------+-------------------+-----------+----------+\n",
      "|          patient_id|health_institution_id|category_id|population_group_id|vaccines_id|  jab_date|\n",
      "+--------------------+---------------------+-----------+-------------------+-----------+----------+\n",
      "|33ac674ce6340a9bd...|         197568495619|          0|                 00|         86|2020-12-21|\n",
      "|4c431d6f0e4d8579b...|         197568495619|          0|                 00|         86|2020-12-21|\n",
      "|f695d6641ef522756...|         197568495619|          0|                 00|         86|2020-12-21|\n",
      "|6f766ca63d2eee2b1...|         197568495619|          0|                 00|         86|2020-12-21|\n",
      "|d25ff8d7f176ae441...|         197568495619|          0|                 00|         86|2020-12-21|\n",
      "|3f075e663cfa481e8...|         197568495619|          0|                 00|         86|2020-12-21|\n",
      "|cc25ed6e8848e3b81...|         197568495619|          0|                 00|         86|2020-12-21|\n",
      "|c3314f58e8a83b876...|         197568495619|          0|                 00|         86|2020-12-21|\n",
      "|5ce61299239f4ac70...|         197568495619|          0|                 00|         86|2020-12-21|\n",
      "|78f26ca3ac23baf5b...|         197568495619|          0|                 00|         86|2020-12-21|\n",
      "|c1e8d4f7e4f72aa2f...|         197568495619|          0|                 00|         86|2020-12-21|\n",
      "|56458ca7eb5161c2e...|         197568495619|          0|                 00|         86|2020-12-21|\n",
      "|427ecc5099c50be0c...|         197568495619|          0|                 00|         86|2020-12-21|\n",
      "|6be63ae465aebb400...|         197568495619|          0|                 00|         86|2020-12-21|\n",
      "|1cbdba8b28b7d1b73...|         146028888067|          2|             000202|         86|2021-01-02|\n",
      "|e727b5fd8234f14ef...|          94489280512|          0|                 00|         86|2021-01-03|\n",
      "|3cc721b918392fc38...|          94489280512|          0|                 00|         86|2021-01-03|\n",
      "|6c1c3ad2195b90fda...|          94489280512|          0|                 00|         86|2021-01-03|\n",
      "|2314de18901b5e4b0...|          94489280512|          0|                 00|         86|2021-01-03|\n",
      "|b6dc0a39a3b760dd7...|        1597727834114|          9|             000926|         85|2021-01-05|\n",
      "+--------------------+---------------------+-----------+-------------------+-----------+----------+\n",
      "only showing top 20 rows\n",
      "\n"
     ]
    }
   ],
   "metadata": {}
  }
 ],
 "metadata": {
  "interpreter": {
   "hash": "60f08008ae04b0180d9de48a4e6c46fd1dc6f0039899f9ca67c2a7ee0fcf33e7"
  },
  "kernelspec": {
   "name": "python3",
   "display_name": "Python 3.8.8 64-bit ('base': conda)"
  },
  "language_info": {
   "codemirror_mode": {
    "name": "ipython",
    "version": 3
   },
   "file_extension": ".py",
   "mimetype": "text/x-python",
   "name": "python",
   "nbconvert_exporter": "python",
   "pygments_lexer": "ipython3",
   "version": "3.8.8"
  }
 },
 "nbformat": 4,
 "nbformat_minor": 5
}