{
 "cells": [
  {
   "cell_type": "code",
   "execution_count": 1,
   "id": "549226a5",
   "metadata": {},
   "outputs": [],
   "source": [
    "# Import necessary libraries\n",
    "import pandas as pd\n",
    "from pyspark.sql import SparkSession\n",
    "import configparser"
   ]
  },
  {
   "cell_type": "code",
   "execution_count": 2,
   "id": "c11fb613",
   "metadata": {},
   "outputs": [],
   "source": [
    "# Read config file\n",
    "config = configparser.ConfigParser()\n",
    "config.read_file(open('dl.cfg'))\n",
    "\n",
    "INPUT_DATA = config['LOCAL']['INPUT_DATA']\n",
    "INPUT_DATA_VACCINES = config['LOCAL']['INPUT_DATA_VACCINES']"
   ]
  },
  {
   "cell_type": "markdown",
   "id": "50b5574f",
   "metadata": {},
   "source": [
    "### Step 1: Scope the Project and Gather Data\n",
    "\n",
    "Dados do Governo Brasileiro sobre a [vacinação contra COVID-19](https://dados.gov.br/dataset/covid-19-vacinacao/resource/ef3bd0b8-b605-474b-9ae5-c97390c197a8?inner_span=True)"
   ]
  },
  {
   "cell_type": "code",
   "execution_count": null,
   "id": "d8fbc524",
   "metadata": {},
   "outputs": [],
   "source": [
    "nrows = 100000\n",
    "\n",
    "df = pd.read_csv(INPUT_DATA_VACCINES, sep=';', header=0, nrows=nrows)"
   ]
  },
  {
   "cell_type": "code",
   "execution_count": null,
   "id": "240ae297",
   "metadata": {},
   "outputs": [],
   "source": [
    "df.head()"
   ]
  },
  {
   "cell_type": "code",
   "execution_count": null,
   "id": "3e0113e9",
   "metadata": {},
   "outputs": [],
   "source": [
    "df.dtypes"
   ]
  },
  {
   "cell_type": "markdown",
   "id": "55669884",
   "metadata": {},
   "source": [
    "### Step 2: Explore and Assess the Data"
   ]
  },
  {
   "cell_type": "code",
   "execution_count": null,
   "id": "b7de1e82",
   "metadata": {},
   "outputs": [],
   "source": [
    "df['paciente_nacionalidade_enumnacionalidade'].drop_duplicates()"
   ]
  },
  {
   "cell_type": "code",
   "execution_count": 3,
   "id": "1618c822",
   "metadata": {},
   "outputs": [],
   "source": [
    "# Spark session\n",
    "spark = SparkSession \\\n",
    "        .builder\\\n",
    "        .config(\"spark.jars.packages\",\"saurfang:spark-sas7bdat:2.0.0-s_2.11\")\\\n",
    "        .enableHiveSupport().getOrCreate()"
   ]
  },
  {
   "cell_type": "code",
   "execution_count": 5,
   "id": "c19ccd83",
   "metadata": {},
   "outputs": [],
   "source": [
    "vaccines_df = spark.read.csv(INPUT_DATA_VACCINES, sep=';', header=True)"
   ]
  },
  {
   "cell_type": "code",
   "execution_count": 6,
   "id": "fb25b090",
   "metadata": {},
   "outputs": [
    {
     "name": "stdout",
     "output_type": "stream",
     "text": [
      "root\n",
      " |-- document_id: string (nullable = true)\n",
      " |-- paciente_id: string (nullable = true)\n",
      " |-- paciente_idade: string (nullable = true)\n",
      " |-- paciente_datanascimento: string (nullable = true)\n",
      " |-- paciente_enumsexobiologico: string (nullable = true)\n",
      " |-- paciente_racacor_codigo: string (nullable = true)\n",
      " |-- paciente_racacor_valor: string (nullable = true)\n",
      " |-- paciente_endereco_coibgemunicipio: string (nullable = true)\n",
      " |-- paciente_endereco_copais: string (nullable = true)\n",
      " |-- paciente_endereco_nmmunicipio: string (nullable = true)\n",
      " |-- paciente_endereco_nmpais: string (nullable = true)\n",
      " |-- paciente_endereco_uf: string (nullable = true)\n",
      " |-- paciente_endereco_cep: string (nullable = true)\n",
      " |-- paciente_nacionalidade_enumnacionalidade: string (nullable = true)\n",
      " |-- estabelecimento_valor: string (nullable = true)\n",
      " |-- estabelecimento_razaosocial: string (nullable = true)\n",
      " |-- estalecimento_nofantasia: string (nullable = true)\n",
      " |-- estabelecimento_municipio_codigo: string (nullable = true)\n",
      " |-- estabelecimento_municipio_nome: string (nullable = true)\n",
      " |-- estabelecimento_uf: string (nullable = true)\n",
      " |-- vacina_grupoatendimento_codigo: string (nullable = true)\n",
      " |-- vacina_grupoatendimento_nome: string (nullable = true)\n",
      " |-- vacina_categoria_codigo: string (nullable = true)\n",
      " |-- vacina_categoria_nome: string (nullable = true)\n",
      " |-- vacina_lote: string (nullable = true)\n",
      " |-- vacina_fabricante_nome: string (nullable = true)\n",
      " |-- vacina_fabricante_referencia: string (nullable = true)\n",
      " |-- vacina_dataaplicacao: string (nullable = true)\n",
      " |-- vacina_descricao_dose: string (nullable = true)\n",
      " |-- vacina_codigo: string (nullable = true)\n",
      " |-- vacina_nome: string (nullable = true)\n",
      " |-- sistema_origem: string (nullable = true)\n",
      " |-- data_importacao_rnds: string (nullable = true)\n",
      " |-- id_sistema_origem: string (nullable = true)\n",
      "\n"
     ]
    }
   ],
   "source": [
    "vaccines_df.printSchema()"
   ]
  },
  {
   "cell_type": "code",
   "execution_count": null,
   "id": "780ae2ed",
   "metadata": {},
   "outputs": [],
   "source": [
    "vaccines_df"
   ]
  },
  {
   "cell_type": "code",
   "execution_count": null,
   "id": "259be8d4",
   "metadata": {},
   "outputs": [],
   "source": []
  }
 ],
 "metadata": {
  "kernelspec": {
   "display_name": "Python 3",
   "language": "python",
   "name": "python3"
  },
  "language_info": {
   "codemirror_mode": {
    "name": "ipython",
    "version": 3
   },
   "file_extension": ".py",
   "mimetype": "text/x-python",
   "name": "python",
   "nbconvert_exporter": "python",
   "pygments_lexer": "ipython3",
   "version": "3.8.8"
  }
 },
 "nbformat": 4,
 "nbformat_minor": 5
}
