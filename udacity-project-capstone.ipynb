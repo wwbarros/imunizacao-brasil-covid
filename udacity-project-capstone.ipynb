{
 "cells": [
  {
   "cell_type": "markdown",
   "source": [
    "# Data Engineering Capstone Project"
   ],
   "metadata": {
    "editable": true
   }
  },
  {
   "cell_type": "markdown",
   "source": [
    "## Enviroment setup"
   ],
   "metadata": {
    "editable": true
   }
  },
  {
   "cell_type": "code",
   "execution_count": 1,
   "source": [
    "# Import necessary libraries\r\n",
    "import pandas as pd\r\n",
    "from pyspark.sql import SparkSession\r\n",
    "from pyspark.sql.functions import monotonically_increasing_id as mono_id\r\n",
    "import configparser"
   ],
   "outputs": [],
   "metadata": {
    "editable": true
   }
  },
  {
   "cell_type": "code",
   "execution_count": 2,
   "source": [
    "# Read config file\r\n",
    "config = configparser.ConfigParser()\r\n",
    "config.read_file(open('dl.cfg'))\r\n",
    "\r\n",
    "INPUT_DATA = config['LOCAL']['INPUT_DATA']\r\n",
    "INPUT_DATA_VACCINES = config['LOCAL']['INPUT_DATA_VACCINES']\r\n",
    "OUTPUT_DATA = config['LOCAL']['OUTPUT_DATA']\r\n",
    "DATA_COLUMNS = config['COMMON']['DATA_COLUMNS']"
   ],
   "outputs": [],
   "metadata": {
    "editable": true
   }
  },
  {
   "cell_type": "code",
   "execution_count": 3,
   "source": [
    "# Spark session\r\n",
    "spark = SparkSession \\\r\n",
    "        .builder\\\r\n",
    "        .getOrCreate()"
   ],
   "outputs": [],
   "metadata": {
    "editable": true
   }
  },
  {
   "cell_type": "code",
   "execution_count": 4,
   "source": [
    "def write_parquet(df, parquet_name):\r\n",
    "    parquet_path = OUTPUT_DATA + f'{parquet_name}.parquet'\r\n",
    "    df.write.mode(\"overwrite\").parquet(parquet_path)\r\n",
    "    print(f'Writing {parquet_name} Table DONE.')\r\n"
   ],
   "outputs": [],
   "metadata": {
    "editable": true
   }
  },
  {
   "cell_type": "code",
   "execution_count": 5,
   "source": [
    "def read_parquet(parquet_name):\r\n",
    "    parquet_path = OUTPUT_DATA + f'{parquet_name}.parquet'\r\n",
    "    return spark.read.parquet(parquet_path)"
   ],
   "outputs": [],
   "metadata": {
    "editable": true
   }
  },
  {
   "cell_type": "code",
   "execution_count": null,
   "source": [
    "def check_nulls(df, columns_list, expected_value):\r\n",
    "    df.createOrReplaceTempView(\"viewcheck\")\r\n",
    "    sql_check = f\"SELECT COUNT(*) FROM viewcheck WHERE 1 <> 1 {''.join([' OR ' + c + ' IS NULL ' for c in columns_list])}\"\r\n",
    "    \r\n",
    "    dfcheck = spark.sql(sql_check)\r\n",
    "    \r\n",
    "    value_check = dfcheck.collect()[0][0]\r\n",
    "    \r\n",
    "    return value_check == expected_value"
   ],
   "outputs": [],
   "metadata": {}
  },
  {
   "cell_type": "code",
   "execution_count": null,
   "source": [
    "def check_has_content(df):\r\n",
    "    return df.count() > 0"
   ],
   "outputs": [],
   "metadata": {}
  },
  {
   "cell_type": "markdown",
   "source": [
    "## Step 1: Scope the Project and Gather Data\r\n",
    "In this step, we’ll:\r\n",
    "\r\n",
    "* Identify and gather the data we'll be using for our project (at least two sources and more than 1 million rows).\r\n",
    "* Explain what end use cases we'd like to prepare the data for (e.g., analytics table, app back-end, source-of-truth database, etc.)\r\n",
    "\r\n",
    "We choose the following datasets:\r\n",
    "* Brazilian Government' dataset [COVID-19 population imunization program](https://dados.gov.br/dataset/covid-19-vacinacao/resource/ef3bd0b8-b605-474b-9ae5-c97390c197a8?inner_span=True)"
   ],
   "metadata": {
    "editable": true
   }
  },
  {
   "cell_type": "code",
   "execution_count": 6,
   "source": [
    "vaccines_df = spark.read.csv(INPUT_DATA_VACCINES, sep=';', header=True)\r\n",
    "\r\n",
    "vaccines_df.printSchema()"
   ],
   "outputs": [
    {
     "output_type": "stream",
     "name": "stdout",
     "text": [
      "root\n",
      " |-- data_importacao_rnds: string (nullable = true)\n",
      " |-- document_id: string (nullable = true)\n",
      " |-- estabelecimento_municipio_codigo: string (nullable = true)\n",
      " |-- estabelecimento_municipio_nome: string (nullable = true)\n",
      " |-- estabelecimento_razaosocial: string (nullable = true)\n",
      " |-- estabelecimento_uf: string (nullable = true)\n",
      " |-- estabelecimento_valor: string (nullable = true)\n",
      " |-- estalecimento_nofantasia: string (nullable = true)\n",
      " |-- id_sistema_origem: string (nullable = true)\n",
      " |-- paciente_datanascimento: string (nullable = true)\n",
      " |-- paciente_endereco_cep: string (nullable = true)\n",
      " |-- paciente_endereco_coibgemunicipio: string (nullable = true)\n",
      " |-- paciente_endereco_copais: string (nullable = true)\n",
      " |-- paciente_endereco_nmmunicipio: string (nullable = true)\n",
      " |-- paciente_endereco_nmpais: string (nullable = true)\n",
      " |-- paciente_endereco_uf: string (nullable = true)\n",
      " |-- paciente_enumsexobiologico: string (nullable = true)\n",
      " |-- paciente_id: string (nullable = true)\n",
      " |-- paciente_idade: string (nullable = true)\n",
      " |-- paciente_nacionalidade_enumnacionalidade: string (nullable = true)\n",
      " |-- paciente_racacor_codigo: string (nullable = true)\n",
      " |-- paciente_racacor_valor: string (nullable = true)\n",
      " |-- sistema_origem: string (nullable = true)\n",
      " |-- vacina_categoria_codigo: string (nullable = true)\n",
      " |-- vacina_categoria_nome: string (nullable = true)\n",
      " |-- vacina_codigo: string (nullable = true)\n",
      " |-- vacina_dataaplicacao: string (nullable = true)\n",
      " |-- vacina_descricao_dose: string (nullable = true)\n",
      " |-- vacina_fabricante_nome: string (nullable = true)\n",
      " |-- vacina_fabricante_referencia: string (nullable = true)\n",
      " |-- vacina_grupoatendimento_codigo: string (nullable = true)\n",
      " |-- vacina_grupoatendimento_nome: string (nullable = true)\n",
      " |-- vacina_lote: string (nullable = true)\n",
      " |-- vacina_nome: string (nullable = true)\n",
      "\n"
     ]
    }
   ],
   "metadata": {
    "editable": true
   }
  },
  {
   "cell_type": "markdown",
   "source": [
    "## Step 2: Explore and Assess the Data\n",
    "In this step we need:\n",
    "* Explore the data to identify data quality issues, like missing values, duplicate data, etc.\n",
    "* Document steps necessary to clean the data"
   ],
   "metadata": {
    "editable": true
   }
  },
  {
   "cell_type": "code",
   "execution_count": 7,
   "source": [
    "# Read the data dictionary from JSON and extract the valid columns\r\n",
    "col_names = pd.read_json(DATA_COLUMNS, typ='series')\r\n",
    "valid_columns = col_names.index\r\n",
    "valid_columns"
   ],
   "outputs": [
    {
     "output_type": "execute_result",
     "data": {
      "text/plain": [
       "Index(['paciente_id', 'paciente_idade', 'paciente_datanascimento',\n",
       "       'paciente_enumsexobiologico', 'paciente_endereco_nmpais',\n",
       "       'paciente_endereco_uf', 'paciente_endereco_nmmunicipio',\n",
       "       'estabelecimento_razaosocial', 'estalecimento_nofantasia',\n",
       "       'estabelecimento_uf', 'estabelecimento_municipio_nome',\n",
       "       'vacina_categoria_codigo', 'vacina_categoria_nome',\n",
       "       'vacina_grupoatendimento_codigo', 'vacina_grupoatendimento_nome',\n",
       "       'vacina_fabricante_nome', 'vacina_codigo', 'vacina_nome',\n",
       "       'vacina_dataaplicacao'],\n",
       "      dtype='object')"
      ]
     },
     "metadata": {},
     "execution_count": 7
    }
   ],
   "metadata": {
    "editable": true
   }
  },
  {
   "cell_type": "code",
   "execution_count": 8,
   "source": [
    "# Get the difference between the dataframe colums and the valid columns\r\n",
    "columns_todrop = list(set(vaccines_df.columns) - set(valid_columns))\r\n",
    "\r\n",
    "columns_todrop"
   ],
   "outputs": [
    {
     "output_type": "execute_result",
     "data": {
      "text/plain": [
       "['estabelecimento_valor',\n",
       " 'id_sistema_origem',\n",
       " 'paciente_racacor_codigo',\n",
       " 'paciente_racacor_valor',\n",
       " 'vacina_fabricante_referencia',\n",
       " 'data_importacao_rnds',\n",
       " 'paciente_endereco_coibgemunicipio',\n",
       " 'paciente_endereco_cep',\n",
       " 'document_id',\n",
       " 'estabelecimento_municipio_codigo',\n",
       " 'vacina_lote',\n",
       " 'paciente_nacionalidade_enumnacionalidade',\n",
       " 'paciente_endereco_copais',\n",
       " 'sistema_origem',\n",
       " 'vacina_descricao_dose']"
      ]
     },
     "metadata": {},
     "execution_count": 8
    }
   ],
   "metadata": {
    "editable": true
   }
  },
  {
   "cell_type": "code",
   "execution_count": 9,
   "source": [
    "# Remove unused columns from dataframe\r\n",
    "vaccines_df = vaccines_df.drop(*columns_todrop)\r\n",
    "vaccines_df.printSchema()"
   ],
   "outputs": [
    {
     "output_type": "stream",
     "name": "stdout",
     "text": [
      "root\n",
      " |-- estabelecimento_municipio_nome: string (nullable = true)\n",
      " |-- estabelecimento_razaosocial: string (nullable = true)\n",
      " |-- estabelecimento_uf: string (nullable = true)\n",
      " |-- estalecimento_nofantasia: string (nullable = true)\n",
      " |-- paciente_datanascimento: string (nullable = true)\n",
      " |-- paciente_endereco_nmmunicipio: string (nullable = true)\n",
      " |-- paciente_endereco_nmpais: string (nullable = true)\n",
      " |-- paciente_endereco_uf: string (nullable = true)\n",
      " |-- paciente_enumsexobiologico: string (nullable = true)\n",
      " |-- paciente_id: string (nullable = true)\n",
      " |-- paciente_idade: string (nullable = true)\n",
      " |-- vacina_categoria_codigo: string (nullable = true)\n",
      " |-- vacina_categoria_nome: string (nullable = true)\n",
      " |-- vacina_codigo: string (nullable = true)\n",
      " |-- vacina_dataaplicacao: string (nullable = true)\n",
      " |-- vacina_fabricante_nome: string (nullable = true)\n",
      " |-- vacina_grupoatendimento_codigo: string (nullable = true)\n",
      " |-- vacina_grupoatendimento_nome: string (nullable = true)\n",
      " |-- vacina_nome: string (nullable = true)\n",
      "\n"
     ]
    }
   ],
   "metadata": {
    "editable": true
   }
  },
  {
   "cell_type": "code",
   "execution_count": 10,
   "source": [
    "# Replace the null values\r\n",
    "vaccines_df = vaccines_df.fillna(\\\r\n",
    "    {\\\r\n",
    "        'vacina_categoria_codigo': 0, \\\r\n",
    "        'vacina_categoria_nome': 'N/A', \\\r\n",
    "        'vacina_grupoatendimento_nome': 'N/A', \\\r\n",
    "        'paciente_enumsexobiologico': 'N/A',\\\r\n",
    "        'estalecimento_nofantasia': 'N/A'\r\n",
    "    })"
   ],
   "outputs": [],
   "metadata": {
    "editable": true
   }
  },
  {
   "cell_type": "markdown",
   "source": [
    "## Step 3: Define the Data Model\r\n",
    "_Map out the conceptual data model and explain why you chose that model_\r\n",
    "\r\n",
    "The data model is a star schema consisting of 5 Dimensions table and 1 Fact table:\r\n",
    "  * Dimensions tables:\r\n",
    "      * vaccines table: Vaccines and suppliers\r\n",
    "      * health_institution table: Hospitals, Nursing home, Clinics \r\n",
    "      * category table: Priority groups\r\n",
    "      * population_group table: Demograph group (professions, age group, ethnicity)\r\n",
    "      * patient table: Demograph data (age, city, gender)\r\n",
    "  * Fact table:\r\n",
    "      * imunization table: Dimensions, First | second dose, date\r\n",
    "\r\n",
    "![ER Data Model - Star Scheme](./docs/er-model-star.jpg)\r\n",
    "\r\n",
    "_List the steps necessary to pipeline the data into the chosen data model_\r\n",
    "* ETL starts the enviroment setup: imports, read config file, def functions and create Spark Session\r\n",
    "* ETL script takes source data (Brazilian Government' dataset COVID-19 population imunization program)\r\n",
    "* Raw data is read into dataframe and cleaned (remove unused columns, fill nulls) \r\n",
    "* For each dimension and fact table \r\n",
    "\t* Create a temporary view table\r\n",
    "\t* Read data to new dataframe\r\n",
    "    * Check data quality: key columns don't have nulls, each table has content\r\n",
    "\t* Create id/indexes (if necessary)\r\n",
    "\t* Write parquet files"
   ],
   "metadata": {
    "editable": true
   }
  },
  {
   "cell_type": "markdown",
   "source": [
    "## Step 4: Run ETL to Model the Data\n",
    "* Create the data pipelines and the data model\n",
    "* Include a data dictionary\n",
    "* Run data quality checks to ensure the pipeline ran as expected\n",
    "\t* Integrity constraints on the relational database (e.g., unique key, data type, etc.)\n",
    "\t* Unit tests for the scripts to ensure they are doing the right thing\n",
    "\t* Source/count checks to ensure completeness"
   ],
   "metadata": {
    "editable": true
   }
  },
  {
   "cell_type": "code",
   "execution_count": 11,
   "source": [
    "# Create vaccines table and write parquet files\r\n",
    "vaccines_df.createOrReplaceTempView(\"vaccines_table_DF\")\r\n",
    "vaccines_table_DF = spark.sql(\"\"\"\r\n",
    "    SELECT  DISTINCT vacina_codigo AS id, \r\n",
    "                     vacina_nome AS name, \r\n",
    "                     vacina_fabricante_nome AS supplier\r\n",
    "    FROM vaccines_table_DF\r\n",
    "    ORDER BY supplier\r\n",
    "\"\"\")\r\n",
    "\r\n",
    "vaccines_table_DF.printSchema()\r\n",
    "vaccines_table_DF.show()"
   ],
   "outputs": [
    {
     "output_type": "stream",
     "name": "stdout",
     "text": [
      "root\n",
      " |-- id: string (nullable = true)\n",
      " |-- name: string (nullable = true)\n",
      " |-- supplier: string (nullable = true)\n",
      "\n",
      "+---+--------------------+--------------------+\n",
      "| id|                name|            supplier|\n",
      "+---+--------------------+--------------------+\n",
      "| 86|Covid-19-Coronava...|   FUNDACAO BUTANTAN|\n",
      "| 85|Vacina Covid-19 -...|FUNDACAO OSWALDO ...|\n",
      "+---+--------------------+--------------------+\n",
      "\n"
     ]
    }
   ],
   "metadata": {
    "editable": true
   }
  },
  {
   "cell_type": "code",
   "execution_count": null,
   "source": [
    "# Check data quality\r\n",
    "check_nulls(vaccines_table_DF, ['id', 'name', 'supplier'], 0)\r\n",
    "check_has_content(vaccines_table_DF)"
   ],
   "outputs": [],
   "metadata": {}
  },
  {
   "cell_type": "code",
   "execution_count": 12,
   "source": [
    "# Write parquet file and get back to Spark:\r\n",
    "write_parquet(vaccines_table_DF, 'vaccines')\r\n",
    "vaccines_table_DF = read_parquet('vaccines')"
   ],
   "outputs": [
    {
     "output_type": "stream",
     "name": "stdout",
     "text": [
      "Writing vaccines Table DONE.\n"
     ]
    }
   ],
   "metadata": {
    "editable": true
   }
  },
  {
   "cell_type": "code",
   "execution_count": 13,
   "source": [
    "# Create Health Institution table and write parquet files\r\n",
    "vaccines_df.createOrReplaceTempView(\"health_institution_table_DF\")\r\n",
    "health_institution_table_DF = spark.sql(\"\"\"\r\n",
    "    SELECT DISTINCT estalecimento_nofantasia AS name,\r\n",
    "                    estabelecimento_razaosocial AS organization,\r\n",
    "                    estabelecimento_uf AS state,\r\n",
    "                    estabelecimento_municipio_nome AS city\r\n",
    "    FROM health_institution_table_DF\r\n",
    "    ORDER BY name\r\n",
    "\"\"\")\r\n",
    "\r\n",
    "health_institution_table_DF = health_institution_table_DF.select(mono_id().alias('id'), '*')\r\n",
    "health_institution_table_DF.printSchema()\r\n",
    "health_institution_table_DF.show()"
   ],
   "outputs": [
    {
     "output_type": "stream",
     "name": "stdout",
     "text": [
      "root\n",
      " |-- id: long (nullable = false)\n",
      " |-- name: string (nullable = false)\n",
      " |-- organization: string (nullable = true)\n",
      " |-- state: string (nullable = true)\n",
      " |-- city: string (nullable = true)\n",
      "\n",
      "+------------+--------------------+--------------------+-----+-------------------+\n",
      "|          id|                name|        organization|state|               city|\n",
      "+------------+--------------------+--------------------+-----+-------------------+\n",
      "|           0|AMBULATORIO MUNIC...|PREFEITURA MUNICI...|   MA|    POCAO DE PEDRAS|\n",
      "|           1|CEADIM DE SERRANO...|MUNICIPIO DE SERR...|   MA|SERRANO DO MARANHAO|\n",
      "|  8589934592|CENTRO DE ATENDIM...|PREFEITURA MUNICI...|   MA|      VARGEM GRANDE|\n",
      "| 17179869184|CENTRO DE ESPECIA...|PREFEITURA MUNICI...|   MA|    BARAO DE GRAJAU|\n",
      "| 25769803776|CENTRO DE ESPECIA...|PREFEITURA MUNICI...|   MA|           PINHEIRO|\n",
      "| 34359738368|CENTRO DE SAUDE A...|MUNICIPIO DE URBA...|   MA|      URBANO SANTOS|\n",
      "| 42949672960|CENTRO DE SAUDE A...|PREFEITURA MUNICI...|   MA| SAO VICENTE FERRER|\n",
      "| 51539607552|CENTRO DE SAUDE A...|PREFEITURA MUNICI...|   MA|    GODOFREDO VIANA|\n",
      "| 60129542144|CENTRO DE SAUDE A...|PREFEITURA MUNICI...|   MA|           CURURUPU|\n",
      "| 68719476736|CENTRO DE SAUDE B...|PREFEITURA MUNICI...|   MA|            BACABAL|\n",
      "| 77309411328|CENTRO DE SAUDE C...|PREFEITURA MUNICI...|   MA|      LAGOA DO MATO|\n",
      "| 85899345920|CENTRO DE SAUDE C...|PREFEITURA MUNICI...|   MA|         CANTANHEDE|\n",
      "| 85899345921|CENTRO DE SAUDE C...|PREFEITURA MUNICI...|   MA|            BACABAL|\n",
      "| 94489280512|CENTRO DE SAUDE C...|PREFEITURA MUNICI...|   MA|           CURURUPU|\n",
      "|103079215104|CENTRO DE SAUDE D...|PREFEITURA MUNICI...|   MA|          MATA ROMA|\n",
      "|111669149696|CENTRO DE SAUDE D...|PREFEITURA MUNICI...|   MA|            BACABAL|\n",
      "|120259084288|CENTRO DE SAUDE D...|PREFEITURA MUNICI...|   MA|      ALDEIAS ALTAS|\n",
      "|128849018880|CENTRO DE SAUDE D...|PREFEITURA MUNICI...|   MA|     CANDIDO MENDES|\n",
      "|137438953472|CENTRO DE SAUDE D...|PREFEITURA MUNICI...|   MA|            COROATA|\n",
      "|146028888064|CENTRO DE SAUDE D...|PREFEITURA MUNICI...|   MA|         MARACACUME|\n",
      "+------------+--------------------+--------------------+-----+-------------------+\n",
      "only showing top 20 rows\n",
      "\n"
     ]
    }
   ],
   "metadata": {
    "editable": true
   }
  },
  {
   "cell_type": "code",
   "execution_count": null,
   "source": [
    "# Check data quality\r\n",
    "check_nulls(health_institution_table_DF, ['id', 'name', 'organization', 'state', 'city'], 0)\r\n",
    "check_has_content(health_institution_table_DF)"
   ],
   "outputs": [],
   "metadata": {}
  },
  {
   "cell_type": "code",
   "execution_count": 14,
   "source": [
    "# Write parquet file and get back to Spark:\r\n",
    "write_parquet(health_institution_table_DF, 'health_institution')\r\n",
    "health_institution_table_DF = read_parquet('health_institution')"
   ],
   "outputs": [
    {
     "output_type": "stream",
     "name": "stdout",
     "text": [
      "Writing health_institution Table DONE.\n"
     ]
    }
   ],
   "metadata": {
    "editable": true
   }
  },
  {
   "cell_type": "code",
   "execution_count": 15,
   "source": [
    "# Create Category table and write parquet files\r\n",
    "vaccines_df.createOrReplaceTempView(\"category_table_DF\")\r\n",
    "category_table_DF = spark.sql(\"\"\"\r\n",
    "    SELECT DISTINCT vacina_categoria_codigo AS id,\r\n",
    "                    vacina_categoria_nome AS name\r\n",
    "            FROM category_table_DF\r\n",
    "            ORDER BY name\r\n",
    "\"\"\")\r\n",
    "\r\n",
    "category_table_DF.printSchema()\r\n",
    "category_table_DF.show()"
   ],
   "outputs": [
    {
     "output_type": "stream",
     "name": "stdout",
     "text": [
      "root\n",
      " |-- id: string (nullable = false)\n",
      " |-- name: string (nullable = false)\n",
      "\n",
      "+---+--------------------+\n",
      "| id|                name|\n",
      "+---+--------------------+\n",
      "|  1|        Comorbidades|\n",
      "|  2|        Faixa Etária|\n",
      "| 11|Pessoas com Defic...|\n",
      "|  3|Pessoas de 60 ano...|\n",
      "|  7|     Povos Indígenas|\n",
      "|  6|Povos e Comunidad...|\n",
      "|  9|Trabalhadores de ...|\n",
      "+---+--------------------+\n",
      "\n"
     ]
    }
   ],
   "metadata": {
    "editable": true
   }
  },
  {
   "cell_type": "code",
   "execution_count": null,
   "source": [
    "# Check data quality\r\n",
    "check_nulls(category_table_DF, ['id', 'name'], 0)\r\n",
    "check_has_content(category_table_DF)"
   ],
   "outputs": [],
   "metadata": {}
  },
  {
   "cell_type": "code",
   "execution_count": 16,
   "source": [
    "# Write parquet file and get back to Spark:\r\n",
    "write_parquet(category_table_DF, 'category')\r\n",
    "category_table_DF = read_parquet('category')"
   ],
   "outputs": [
    {
     "output_type": "stream",
     "name": "stdout",
     "text": [
      "Writing category Table DONE.\n"
     ]
    }
   ],
   "metadata": {
    "editable": true
   }
  },
  {
   "cell_type": "code",
   "execution_count": 17,
   "source": [
    "# Create Population Groups table and write parquet files\r\n",
    "vaccines_df.createOrReplaceTempView(\"population_group_table_DF\")\r\n",
    "population_group_table_DF = spark.sql(\"\"\"\r\n",
    "    SELECT DISTINCT vacina_grupoatendimento_codigo AS id,\r\n",
    "                    vacina_grupoatendimento_nome AS name\r\n",
    "            FROM population_group_table_DF\r\n",
    "        ORDER BY name\r\n",
    "\"\"\")\r\n",
    "\r\n",
    "population_group_table_DF.printSchema()\r\n",
    "population_group_table_DF.show()"
   ],
   "outputs": [
    {
     "output_type": "stream",
     "name": "stdout",
     "text": [
      "root\n",
      " |-- id: string (nullable = true)\n",
      " |-- name: string (nullable = false)\n",
      "\n",
      "+----+--------------------+\n",
      "|  id|                name|\n",
      "+----+--------------------+\n",
      "| 905|  Cuidador de Idosos|\n",
      "| 103|   Diabetes Mellitus|\n",
      "| 105|Doença Renal Crônica|\n",
      "| 106|Doenças Cardiovas...|\n",
      "| 907|       Enfermeiro(a)|\n",
      "| 909|     Fisioterapeutas|\n",
      "| 911|Funcionário do Si...|\n",
      "| 107|Hipertensão de di...|\n",
      "| 102|          Neoplasias|\n",
      "| 915|       Nutricionista|\n",
      "| 926|              Outros|\n",
      "|1102|Pessoas com Defic...|\n",
      "| 201|Pessoas de 18 a 6...|\n",
      "| 301|Pessoas de 60 ano...|\n",
      "| 202|Pessoas de 65 a 6...|\n",
      "| 203|Pessoas de 70 a 7...|\n",
      "| 204|Pessoas de 75 a 7...|\n",
      "| 205|Pessoas de 80 ano...|\n",
      "| 701|Povos indígenas e...|\n",
      "| 917|Profissionais e A...|\n",
      "+----+--------------------+\n",
      "only showing top 20 rows\n",
      "\n"
     ]
    }
   ],
   "metadata": {
    "editable": true
   }
  },
  {
   "cell_type": "code",
   "execution_count": null,
   "source": [
    "# Check data quality\r\n",
    "check_nulls(population_group_table_DF, ['id', 'name'], 0)\r\n",
    "check_has_content(population_group_table_DF)"
   ],
   "outputs": [],
   "metadata": {}
  },
  {
   "cell_type": "code",
   "execution_count": 18,
   "source": [
    "# Write parquet file and get back to Spark:\r\n",
    "write_parquet(population_group_table_DF, 'population_group')\r\n",
    "population_group_table_DF = read_parquet('population_group')"
   ],
   "outputs": [
    {
     "output_type": "stream",
     "name": "stdout",
     "text": [
      "Writing population_group Table DONE.\n"
     ]
    }
   ],
   "metadata": {
    "editable": true
   }
  },
  {
   "cell_type": "code",
   "execution_count": 19,
   "source": [
    "# Create Patient table and write parquet files\r\n",
    "vaccines_df.createOrReplaceTempView(\"patient_table_DF\")\r\n",
    "patient_table_DF = spark.sql(\"\"\"\r\n",
    "    SELECT DISTINCT paciente_id AS id,\r\n",
    "                    paciente_idade AS age,\r\n",
    "                    paciente_datanascimento AS birthdate,\r\n",
    "                    paciente_enumsexobiologico AS gender,\r\n",
    "                    paciente_endereco_nmpais AS country,\r\n",
    "                    paciente_endereco_uf AS state,\r\n",
    "                    paciente_endereco_nmmunicipio AS city\r\n",
    "            FROM patient_table_DF\r\n",
    "            WHERE paciente_id IS NOT NULL\r\n",
    "            ORDER BY id\r\n",
    "\"\"\")\r\n",
    "\r\n",
    "patient_table_DF.printSchema()\r\n",
    "patient_table_DF.show()"
   ],
   "outputs": [
    {
     "output_type": "stream",
     "name": "stdout",
     "text": [
      "root\n",
      " |-- id: string (nullable = true)\n",
      " |-- age: string (nullable = true)\n",
      " |-- birthdate: string (nullable = true)\n",
      " |-- gender: string (nullable = false)\n",
      " |-- country: string (nullable = true)\n",
      " |-- state: string (nullable = true)\n",
      " |-- city: string (nullable = true)\n",
      "\n",
      "+--------------------+---+-------------------+------+-------+-----+--------------------+\n",
      "|                  id|age|          birthdate|gender|country|state|                city|\n",
      "+--------------------+---+-------------------+------+-------+-----+--------------------+\n",
      "|001172d8023bf74e8...| 69|1951-05-03 00:00:00|     M| BRASIL|   MA|            SAO LUIS|\n",
      "|0037915f9d8c82740...| 80|1940-07-14 00:00:00|     F| BRASIL|   MA|          ACAILANDIA|\n",
      "|003f0c135c70c7f4d...| 82|1938-05-09 00:00:00|     F| BRASIL|   MA|  ITINGA DO MARANHAO|\n",
      "|00ba3b39629b28be3...| 61|1960-01-21 00:00:00|     F| BRASIL|   MA|      BARRA DO CORDA|\n",
      "|012c38283b39186dd...| 50|1970-04-03 00:00:00|     M| BRASIL|   MA|       PRIMEIRA CRUZ|\n",
      "|014d4147b3c1cde08...| 33|1987-07-23 00:00:00|     F| BRASIL|   MA|                CODO|\n",
      "|027b0944c938c2ea1...|100|1920-10-15 00:00:00|     F| BRASIL|   MA|     PASSAGEM FRANCA|\n",
      "|03440bfb7fb9eb83b...| 78|1942-09-24 00:00:00|     M| BRASIL|   MA|       PINDARE-MIRIM|\n",
      "|034ecb4f868ba1aad...| 66|1954-08-03 00:00:00|     M| BRASIL|   MA|            PINHEIRO|\n",
      "|03beb365a9b88eeda...| 76|1944-04-08 00:00:00|     M| BRASIL|   MA|              GRAJAU|\n",
      "|043cf7bdc819b9a8f...| 70|1950-07-06 00:00:00|     F| BRASIL|   MA|            SAO LUIS|\n",
      "|044b42ef0a290b2b0...| 75|1945-09-05 00:00:00|     M| BRASIL|   MA|            ESTREITO|\n",
      "|04d4de9c5084ee7f3...| 75|1946-02-01 00:00:00|     F| BRASIL|   MA|          ACAILANDIA|\n",
      "|04febc31e2f007c5e...| 68|1953-02-17 00:00:00|     M| BRASIL|   MA|            PINHEIRO|\n",
      "|051b1a6670aa42a13...| 35|1985-08-24 00:00:00|     M| BRASIL|   MA|        PALMEIRANDIA|\n",
      "|0594c311726297d81...| 88|1933-01-10 00:00:00|     M| BRASIL|   MA|               TIMON|\n",
      "|05e418aea32620567...| 40|1981-02-10 00:00:00|     M| BRASIL|   MA|          SANTA INES|\n",
      "|05ec6de7defe295a7...| 76|1945-01-14 00:00:00|     M| BRASIL|   MA|SANTA QUITERIA DO...|\n",
      "|063a0c777546ca648...| 27|1993-08-28 00:00:00|     M| BRASIL|   MA|              BACURI|\n",
      "|074197230cabbabc7...| 69|1951-05-07 00:00:00|     M| BRASIL|   MA|            SAO LUIS|\n",
      "+--------------------+---+-------------------+------+-------+-----+--------------------+\n",
      "only showing top 20 rows\n",
      "\n"
     ]
    }
   ],
   "metadata": {
    "editable": true
   }
  },
  {
   "cell_type": "code",
   "execution_count": null,
   "source": [
    "# Check data quality\r\n",
    "check_nulls(patient_table_DF, ['id', 'age', 'birthdate', 'gender', 'country', 'state', 'city'], 0)\r\n",
    "check_has_content(patient_table_DF)"
   ],
   "outputs": [],
   "metadata": {}
  },
  {
   "cell_type": "code",
   "execution_count": 20,
   "source": [
    "# Write parquet file and get back to Spark:\r\n",
    "write_parquet(patient_table_DF, 'patient')\r\n",
    "patient_table_DF = read_parquet('patient')"
   ],
   "outputs": [
    {
     "output_type": "stream",
     "name": "stdout",
     "text": [
      "Writing patient Table DONE.\n"
     ]
    }
   ],
   "metadata": {
    "editable": true
   }
  },
  {
   "cell_type": "code",
   "execution_count": 21,
   "source": [
    "vaccines_df_joined = vaccines_df.join(health_institution_table_DF, \\\r\n",
    "                                      [vaccines_df.estalecimento_nofantasia == health_institution_table_DF.name,\\\r\n",
    "                                      vaccines_df.estabelecimento_razaosocial == health_institution_table_DF.organization])\r\n",
    "\r\n",
    "vaccines_df_joined.printSchema()"
   ],
   "outputs": [
    {
     "output_type": "stream",
     "name": "stdout",
     "text": [
      "root\n",
      " |-- estabelecimento_municipio_nome: string (nullable = true)\n",
      " |-- estabelecimento_razaosocial: string (nullable = true)\n",
      " |-- estabelecimento_uf: string (nullable = true)\n",
      " |-- estalecimento_nofantasia: string (nullable = false)\n",
      " |-- paciente_datanascimento: string (nullable = true)\n",
      " |-- paciente_endereco_nmmunicipio: string (nullable = true)\n",
      " |-- paciente_endereco_nmpais: string (nullable = true)\n",
      " |-- paciente_endereco_uf: string (nullable = true)\n",
      " |-- paciente_enumsexobiologico: string (nullable = false)\n",
      " |-- paciente_id: string (nullable = true)\n",
      " |-- paciente_idade: string (nullable = true)\n",
      " |-- vacina_categoria_codigo: string (nullable = false)\n",
      " |-- vacina_categoria_nome: string (nullable = false)\n",
      " |-- vacina_codigo: string (nullable = true)\n",
      " |-- vacina_dataaplicacao: string (nullable = true)\n",
      " |-- vacina_fabricante_nome: string (nullable = true)\n",
      " |-- vacina_grupoatendimento_codigo: string (nullable = true)\n",
      " |-- vacina_grupoatendimento_nome: string (nullable = false)\n",
      " |-- vacina_nome: string (nullable = true)\n",
      " |-- id: long (nullable = true)\n",
      " |-- name: string (nullable = true)\n",
      " |-- organization: string (nullable = true)\n",
      " |-- state: string (nullable = true)\n",
      " |-- city: string (nullable = true)\n",
      "\n"
     ]
    }
   ],
   "metadata": {
    "editable": true
   }
  },
  {
   "cell_type": "code",
   "execution_count": 22,
   "source": [
    "# Create Patient table and write parquet files\r\n",
    "vaccines_df_joined.createOrReplaceTempView(\"imunization_table_DF\")\r\n",
    "imunization_table_DF = spark.sql(\"\"\"\r\n",
    "    SELECT distinct paciente_id AS patient_id,\r\n",
    "            id AS health_institution_id,\r\n",
    "            vacina_categoria_codigo AS category_id,\r\n",
    "            vacina_grupoatendimento_codigo AS population_group_id,\r\n",
    "            vacina_codigo AS vaccines_id,\r\n",
    "            vacina_descricao_dose AS vaccines_dose,\r\n",
    "            vacina_dataaplicacao AS jab_date\r\n",
    "        FROM imunization_table_DF\r\n",
    "        ORDER BY jab_date\r\n",
    "\"\"\")\r\n",
    "\r\n",
    "imunization_table_DF.printSchema()"
   ],
   "outputs": [
    {
     "output_type": "stream",
     "name": "stdout",
     "text": [
      "root\n",
      " |-- patient_id: string (nullable = true)\n",
      " |-- health_institution_id: long (nullable = true)\n",
      " |-- category_id: string (nullable = false)\n",
      " |-- population_group_id: string (nullable = true)\n",
      " |-- vaccines_id: string (nullable = true)\n",
      " |-- jab_date: string (nullable = true)\n",
      "\n"
     ]
    }
   ],
   "metadata": {
    "editable": true
   }
  },
  {
   "cell_type": "code",
   "execution_count": null,
   "source": [
    "# Check data quality\r\n",
    "check_nulls(imunization_table_DF, ['patient_id', 'health_institution_id', 'category_id', 'population_group_id', 'vaccines_id', 'vaccines_dose', 'jab_date'], 0)\r\n",
    "check_has_content(imunization_table_DF)"
   ],
   "outputs": [],
   "metadata": {}
  },
  {
   "cell_type": "code",
   "execution_count": 23,
   "source": [
    "# Write parquet file and get back to Spark:\r\n",
    "write_parquet(imunization_table_DF, 'imunization')\r\n",
    "imunization_table_DF = read_parquet('imunization')"
   ],
   "outputs": [
    {
     "output_type": "stream",
     "name": "stdout",
     "text": [
      "Writing imunization Table DONE.\n"
     ]
    }
   ],
   "metadata": {
    "editable": true
   }
  },
  {
   "cell_type": "code",
   "execution_count": 24,
   "source": [
    "imunization_table_DF.show()"
   ],
   "outputs": [
    {
     "output_type": "stream",
     "name": "stdout",
     "text": [
      "+--------------------+---------------------+-----------+-------------------+-----------+-------------------+\n",
      "|          patient_id|health_institution_id|category_id|population_group_id|vaccines_id|           jab_date|\n",
      "+--------------------+---------------------+-----------+-------------------+-----------+-------------------+\n",
      "|1e0a0f8549d3f0d4d...|         429496729600|          2|                203|         86|2021-03-29 21:00:00|\n",
      "|4acc91ff29e63517e...|         163208757249|          6|                601|         85|2021-03-29 21:00:00|\n",
      "|c38e7ab6cdb03b114...|         566935683072|          6|                601|         85|2021-03-29 21:00:00|\n",
      "|7c66c5cf8de7570fc...|         618475290624|          2|                203|         86|2021-03-29 21:00:00|\n",
      "|9d341f28d622689d6...|         618475290624|          2|                204|         86|2021-03-29 21:00:00|\n",
      "|378809f96d3f0ded7...|         781684047872|          6|                601|         85|2021-03-29 21:00:00|\n",
      "|2ac4028a431da5bc6...|         773094113280|          2|                203|         86|2021-03-29 21:00:00|\n",
      "|10b3cd43e89d6f116...|         721554505728|          2|                203|         86|2021-03-29 21:00:00|\n",
      "|697976d11cf0fca8b...|         566935683072|          6|                601|         85|2021-03-29 21:00:00|\n",
      "|15b969fa32b124767...|        1039382085632|          2|                203|         86|2021-03-29 21:00:00|\n",
      "|014d4147b3c1cde08...|         566935683072|          6|                601|         85|2021-03-29 21:00:00|\n",
      "|7a8f8938692a4ab4b...|         781684047872|          6|                601|         85|2021-03-29 21:00:00|\n",
      "|759333c20c043dae2...|        1546188226560|          2|                205|         86|2021-03-29 21:00:00|\n",
      "|42b79a4aa0bb3d2f1...|         163208757249|          6|                601|         85|2021-03-29 21:00:00|\n",
      "|ceb79005a9f9c1448...|         566935683072|          6|                601|         85|2021-03-29 21:00:00|\n",
      "|1ddf8d58957698a98...|         317827579904|          2|                202|         86|2021-03-29 21:00:00|\n",
      "|5945ea93559d48bdc...|         163208757249|          6|                601|         85|2021-03-29 21:00:00|\n",
      "|3cd47b4475633ab91...|          34359738368|          2|                202|         86|2021-03-29 21:00:00|\n",
      "|5354b87ec619ad3f4...|        1271310319616|          2|                203|         86|2021-03-29 21:00:00|\n",
      "|e58d257e23f512406...|        1168231104512|          2|                203|         86|2021-03-29 21:00:00|\n",
      "+--------------------+---------------------+-----------+-------------------+-----------+-------------------+\n",
      "only showing top 20 rows\n",
      "\n"
     ]
    }
   ],
   "metadata": {
    "editable": true
   }
  },
  {
   "cell_type": "code",
   "execution_count": null,
   "source": [],
   "outputs": [],
   "metadata": {
    "editable": true
   }
  }
 ],
 "metadata": {
  "interpreter": {
   "hash": "60f08008ae04b0180d9de48a4e6c46fd1dc6f0039899f9ca67c2a7ee0fcf33e7"
  },
  "kernelspec": {
   "display_name": "Python 3",
   "language": "python",
   "name": "python3"
  },
  "language_info": {
   "codemirror_mode": {
    "name": "ipython",
    "version": 3
   },
   "file_extension": ".py",
   "mimetype": "text/x-python",
   "name": "python",
   "nbconvert_exporter": "python",
   "pygments_lexer": "ipython3",
   "version": "3.6.3"
  }
 },
 "nbformat": 4,
 "nbformat_minor": 5
}