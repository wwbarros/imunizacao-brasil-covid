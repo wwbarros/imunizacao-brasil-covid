{
 "cells": [
  {
   "cell_type": "markdown",
   "source": [
    "# Data Engineering Capstone Project"
   ],
   "metadata": {}
  },
  {
   "cell_type": "markdown",
   "source": [
    "## Enviroment setup"
   ],
   "metadata": {}
  },
  {
   "cell_type": "code",
   "execution_count": 1,
   "source": [
    "# Import necessary libraries\r\n",
    "import pandas as pd\r\n",
    "from pyspark.sql import SparkSession\r\n",
    "import configparser"
   ],
   "outputs": [],
   "metadata": {}
  },
  {
   "cell_type": "code",
   "execution_count": 2,
   "source": [
    "# Read config file\r\n",
    "config = configparser.ConfigParser()\r\n",
    "config.read_file(open('dl.cfg'))\r\n",
    "\r\n",
    "INPUT_DATA = config['LOCAL']['INPUT_DATA']\r\n",
    "INPUT_DATA_VACCINES = config['LOCAL']['INPUT_DATA_VACCINES']\r\n",
    "DATA_COLUMNS = config['COMMON']['DATA_COLUMNS']"
   ],
   "outputs": [],
   "metadata": {}
  },
  {
   "cell_type": "code",
   "execution_count": 3,
   "source": [
    "# Spark session\r\n",
    "spark = SparkSession \\\r\n",
    "        .builder\\\r\n",
    "        .getOrCreate()"
   ],
   "outputs": [],
   "metadata": {}
  },
  {
   "cell_type": "markdown",
   "source": [
    "## Step 1: Scope the Project and Gather Data\r\n",
    "In this step, we’ll:\r\n",
    "\r\n",
    "* Identify and gather the data we'll be using for our project (at least two sources and more than 1 million rows).\r\n",
    "* Explain what end use cases we'd like to prepare the data for (e.g., analytics table, app back-end, source-of-truth database, etc.)\r\n",
    "\r\n",
    "We choose the following datasets:\r\n",
    "* Brazilian Government' dataset [COVID-19 population imunization program](https://dados.gov.br/dataset/covid-19-vacinacao/resource/ef3bd0b8-b605-474b-9ae5-c97390c197a8?inner_span=True)"
   ],
   "metadata": {}
  },
  {
   "cell_type": "code",
   "execution_count": 4,
   "source": [
    "vaccines_df = spark.read.csv(INPUT_DATA_VACCINES, sep=';', header=True)"
   ],
   "outputs": [],
   "metadata": {}
  },
  {
   "cell_type": "markdown",
   "source": [
    "## Step 2: Explore and Assess the Data\r\n",
    "In this step we need:\r\n",
    "* Explore the data to identify data quality issues, like missing values, duplicate data, etc.\r\n",
    "* Document steps necessary to clean the data"
   ],
   "metadata": {}
  },
  {
   "cell_type": "code",
   "execution_count": 5,
   "source": [
    "# Read the data dictionary from JSON and extract the valid columns\r\n",
    "col_names = pd.read_json(DATA_COLUMNS, typ='series')\r\n",
    "valid_columns = col_names.index.to_list()\r\n",
    "valid_columns"
   ],
   "outputs": [
    {
     "output_type": "execute_result",
     "data": {
      "text/plain": [
       "['paciente_id',\n",
       " 'paciente_idade',\n",
       " 'paciente_datanascimento',\n",
       " 'paciente_enumsexobiologico',\n",
       " 'paciente_endereco_nmpais',\n",
       " 'paciente_endereco_uf',\n",
       " 'paciente_endereco_nmmunicipio',\n",
       " 'estabelecimento_razaosocial',\n",
       " 'estalecimento_nofantasia',\n",
       " 'estabelecimento_uf',\n",
       " 'estabelecimento_municipio_nome',\n",
       " 'vacina_categoria_codigo',\n",
       " 'vacina_categoria_nome',\n",
       " 'vacina_grupoatendimento_codigo',\n",
       " 'vacina_grupoatendimento_nome',\n",
       " 'vacina_fabricante_nome',\n",
       " 'vacina_codigo',\n",
       " 'vacina_nome']"
      ]
     },
     "metadata": {},
     "execution_count": 5
    }
   ],
   "metadata": {}
  },
  {
   "cell_type": "code",
   "execution_count": 6,
   "source": [
    "# Get the difference between the dataframe colums and the valid columns\r\n",
    "columns_todrop = list(set(vaccines_df.columns) - set(valid_columns))\r\n",
    "\r\n",
    "columns_todrop"
   ],
   "outputs": [
    {
     "output_type": "execute_result",
     "data": {
      "text/plain": [
       "['document_id',\n",
       " 'vacina_descricao_dose',\n",
       " 'sistema_origem',\n",
       " 'paciente_endereco_coibgemunicipio',\n",
       " 'vacina_dataaplicacao',\n",
       " 'id_sistema_origem',\n",
       " 'paciente_endereco_cep',\n",
       " 'paciente_racacor_codigo',\n",
       " 'paciente_endereco_copais',\n",
       " 'estabelecimento_valor',\n",
       " 'data_importacao_rnds',\n",
       " 'paciente_racacor_valor',\n",
       " 'estabelecimento_municipio_codigo',\n",
       " 'paciente_nacionalidade_enumnacionalidade',\n",
       " 'vacina_lote',\n",
       " 'vacina_fabricante_referencia']"
      ]
     },
     "metadata": {},
     "execution_count": 6
    }
   ],
   "metadata": {}
  },
  {
   "cell_type": "code",
   "execution_count": 7,
   "source": [
    "# Remove unused columns from dataframe\r\n",
    "vaccines_df = vaccines_df.drop(*columns_todrop)\r\n",
    "vaccines_df.printSchema()"
   ],
   "outputs": [
    {
     "output_type": "stream",
     "name": "stdout",
     "text": [
      "root\n",
      " |-- paciente_id: string (nullable = true)\n",
      " |-- paciente_idade: string (nullable = true)\n",
      " |-- paciente_datanascimento: string (nullable = true)\n",
      " |-- paciente_enumsexobiologico: string (nullable = true)\n",
      " |-- paciente_endereco_nmmunicipio: string (nullable = true)\n",
      " |-- paciente_endereco_nmpais: string (nullable = true)\n",
      " |-- paciente_endereco_uf: string (nullable = true)\n",
      " |-- estabelecimento_razaosocial: string (nullable = true)\n",
      " |-- estalecimento_nofantasia: string (nullable = true)\n",
      " |-- estabelecimento_municipio_nome: string (nullable = true)\n",
      " |-- estabelecimento_uf: string (nullable = true)\n",
      " |-- vacina_grupoatendimento_codigo: string (nullable = true)\n",
      " |-- vacina_grupoatendimento_nome: string (nullable = true)\n",
      " |-- vacina_categoria_codigo: string (nullable = true)\n",
      " |-- vacina_categoria_nome: string (nullable = true)\n",
      " |-- vacina_fabricante_nome: string (nullable = true)\n",
      " |-- vacina_codigo: string (nullable = true)\n",
      " |-- vacina_nome: string (nullable = true)\n",
      "\n"
     ]
    }
   ],
   "metadata": {}
  },
  {
   "cell_type": "code",
   "execution_count": 8,
   "source": [
    "# Replace the null values\r\n",
    "vaccines_df = vaccines_df.fillna({'vacina_categoria_codigo': -1, 'vacina_categoria_nome': 'N/A', 'vacina_grupoatendimento_nome': 'N/A'})"
   ],
   "outputs": [],
   "metadata": {}
  },
  {
   "cell_type": "code",
   "execution_count": 12,
   "source": [
    "vaccines_df.select(\"vacina_grupoatendimento_nome\", \"vacina_grupoatendimento_codigo\").show()"
   ],
   "outputs": [
    {
     "output_type": "stream",
     "name": "stdout",
     "text": [
      "+----------------------------+------------------------------+\n",
      "|vacina_grupoatendimento_nome|vacina_grupoatendimento_codigo|\n",
      "+----------------------------+------------------------------+\n",
      "|        Pessoas de 18 a 6...|                        000201|\n",
      "|        Pessoas de 18 a 6...|                        000201|\n",
      "|        Pessoas de 18 a 6...|                        000201|\n",
      "|        Pessoas de 18 a 6...|                        000201|\n",
      "|        Pessoas de 18 a 6...|                        000201|\n",
      "|                      Outros|                        000926|\n",
      "|        Pessoas de 18 a 6...|                        000201|\n",
      "|        Pessoas de 70 a 7...|                        000203|\n",
      "|        Pessoas de 18 a 6...|                        000201|\n",
      "|        Pessoas de 18 a 6...|                        000201|\n",
      "|        Pessoas de 18 a 6...|                        000201|\n",
      "|        Pessoas de 65 a 6...|                        000202|\n",
      "|           Diabetes Mellitus|                        000103|\n",
      "|        Pessoas de 65 a 6...|                        000202|\n",
      "|        Pessoas de 18 a 6...|                        000201|\n",
      "|        Pessoas de 80 ano...|                        000205|\n",
      "|            Síndrome de Down|                        000110|\n",
      "|        Pessoas de 18 a 6...|                        000201|\n",
      "|        Pessoas de 18 a 6...|                        000201|\n",
      "|        Povos indígenas e...|                        000701|\n",
      "+----------------------------+------------------------------+\n",
      "only showing top 20 rows\n",
      "\n"
     ]
    }
   ],
   "metadata": {}
  },
  {
   "cell_type": "code",
   "execution_count": null,
   "source": [
    "vaccines_df.select(\"*\").filter(vaccines_df.estabelecimento_municipio_nome == 'PINHEIRO').show(10)"
   ],
   "outputs": [],
   "metadata": {}
  }
 ],
 "metadata": {
  "interpreter": {
   "hash": "e3babd7ac79e0887df5a9e3ee8123f217b43f09743b73590444977beefbb8a7a"
  },
  "kernelspec": {
   "name": "python3",
   "display_name": "Python 3.8.8 64-bit ('base': conda)"
  },
  "language_info": {
   "codemirror_mode": {
    "name": "ipython",
    "version": 3
   },
   "file_extension": ".py",
   "mimetype": "text/x-python",
   "name": "python",
   "nbconvert_exporter": "python",
   "pygments_lexer": "ipython3",
   "version": "3.8.8"
  }
 },
 "nbformat": 4,
 "nbformat_minor": 5
}