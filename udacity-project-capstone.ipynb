{
 "cells": [
  {
   "cell_type": "markdown",
   "source": [
    "# Data Engineering Capstone Project"
   ],
   "metadata": {
    "editable": true
   }
  },
  {
   "cell_type": "markdown",
   "source": [
    "## Enviroment setup"
   ],
   "metadata": {
    "editable": true
   }
  },
  {
   "cell_type": "code",
   "execution_count": null,
   "source": [
    "# Import necessary libraries\n",
    "import pandas as pd\n",
    "from pyspark.sql import SparkSession\n",
    "from pyspark.sql.functions import monotonically_increasing_id as mono_id\n",
    "import configparser"
   ],
   "outputs": [],
   "metadata": {
    "editable": true
   }
  },
  {
   "cell_type": "code",
   "execution_count": null,
   "source": [
    "# Read config file\n",
    "config = configparser.ConfigParser()\n",
    "config.read_file(open('dl.cfg'))\n",
    "\n",
    "INPUT_DATA = config['LOCAL']['INPUT_DATA']\n",
    "INPUT_DATA_VACCINES = config['LOCAL']['INPUT_DATA_VACCINES']\n",
    "OUTPUT_DATA = config['LOCAL']['OUTPUT_DATA']\n",
    "DATA_COLUMNS = config['COMMON']['DATA_COLUMNS']"
   ],
   "outputs": [],
   "metadata": {
    "editable": true
   }
  },
  {
   "cell_type": "code",
   "execution_count": null,
   "source": [
    "# Spark session\n",
    "spark = SparkSession \\\n",
    "        .builder\\\n",
    "        .getOrCreate()"
   ],
   "outputs": [],
   "metadata": {
    "editable": true
   }
  },
  {
   "cell_type": "code",
   "execution_count": null,
   "source": [
    "def write_parquet(df, parquet_name):\n",
    "    parquet_path = OUTPUT_DATA + f'{parquet_name}.parquet'\n",
    "    df.write.mode(\"overwrite\").parquet(parquet_path)\n",
    "    print(f'Writing {parquet_name} Table DONE.')\n"
   ],
   "outputs": [],
   "metadata": {
    "editable": true
   }
  },
  {
   "cell_type": "code",
   "execution_count": null,
   "source": [
    "def read_parquet(parquet_name):\n",
    "    parquet_path = OUTPUT_DATA + f'{parquet_name}.parquet'\n",
    "    return spark.read.parquet(parquet_path)"
   ],
   "outputs": [],
   "metadata": {
    "editable": true
   }
  },
  {
   "cell_type": "code",
   "execution_count": null,
   "source": [
    "def check_nulls(df, columns_list, expected_value):\n",
    "    df.createOrReplaceTempView(\"viewcheck\")\n",
    "    sql_check = f\"SELECT COUNT(*) FROM viewcheck WHERE 1 <> 1 {''.join([' OR ' + c + ' IS NULL ' for c in columns_list])}\"\n",
    "    \n",
    "    dfcheck = spark.sql(sql_check)\n",
    "    \n",
    "    value_check = dfcheck.collect()[0][0]\n",
    "    \n",
    "    return value_check == expected_value"
   ],
   "outputs": [],
   "metadata": {}
  },
  {
   "cell_type": "code",
   "execution_count": null,
   "source": [
    "def check_has_content(df):\n",
    "    return df.count() > 0"
   ],
   "outputs": [],
   "metadata": {}
  },
  {
   "cell_type": "markdown",
   "source": [
    "## Step 1: Scope the Project and Gather Data\r\n",
    "In this step, we’ll:\r\n",
    "\r\n",
    "* Identify and gather the data we'll be using for our project (at least two sources and more than 1 million rows).\r\n",
    "* Explain what end use cases we'd like to prepare the data for (e.g., analytics table, app back-end, source-of-truth database, etc.)\r\n",
    "\r\n",
    "We choose the following datasets:\r\n",
    "* Brazilian Government' dataset [COVID-19 population imunization program](https://dados.gov.br/dataset/covid-19-vacinacao/resource/ef3bd0b8-b605-474b-9ae5-c97390c197a8?inner_span=True)"
   ],
   "metadata": {
    "editable": true
   }
  },
  {
   "cell_type": "code",
   "execution_count": null,
   "source": [
    "vaccines_df = spark.read.csv(INPUT_DATA_VACCINES, sep=';', header=True)\n",
    "\n",
    "vaccines_df.printSchema()"
   ],
   "outputs": [],
   "metadata": {
    "editable": true
   }
  },
  {
   "cell_type": "markdown",
   "source": [
    "## Step 2: Explore and Assess the Data\n",
    "In this step we need:\n",
    "* Explore the data to identify data quality issues, like missing values, duplicate data, etc.\n",
    "* Document steps necessary to clean the data"
   ],
   "metadata": {
    "editable": true
   }
  },
  {
   "cell_type": "code",
   "execution_count": null,
   "source": [
    "# Read the data dictionary from JSON and extract the valid columns\n",
    "col_names = pd.read_json(DATA_COLUMNS, typ='series')\n",
    "valid_columns = col_names.index\n",
    "valid_columns"
   ],
   "outputs": [],
   "metadata": {
    "editable": true
   }
  },
  {
   "cell_type": "code",
   "execution_count": null,
   "source": [
    "# Get the difference between the dataframe colums and the valid columns\n",
    "columns_todrop = list(set(vaccines_df.columns) - set(valid_columns))\n",
    "\n",
    "columns_todrop"
   ],
   "outputs": [],
   "metadata": {
    "editable": true
   }
  },
  {
   "cell_type": "code",
   "execution_count": null,
   "source": [
    "# Remove unused columns from dataframe\n",
    "vaccines_df = vaccines_df.drop(*columns_todrop)\n",
    "vaccines_df.printSchema()"
   ],
   "outputs": [],
   "metadata": {
    "editable": true
   }
  },
  {
   "cell_type": "code",
   "execution_count": null,
   "source": [
    "# Replace the null values\n",
    "vaccines_df = vaccines_df.fillna(\\\n",
    "    {\\\n",
    "        'vacina_categoria_codigo': 0, \\\n",
    "        'vacina_categoria_nome': 'N/A', \\\n",
    "        'vacina_grupoatendimento_nome': 'N/A', \\\n",
    "        'paciente_enumsexobiologico': 'N/A',\\\n",
    "        'estalecimento_nofantasia': 'N/A'\n",
    "    })"
   ],
   "outputs": [],
   "metadata": {
    "editable": true
   }
  },
  {
   "cell_type": "markdown",
   "source": [
    "## Step 3: Define the Data Model\r\n",
    "_Map out the conceptual data model and explain why you chose that model_\r\n",
    "\r\n",
    "The data model is a star schema consisting of 5 Dimensions table and 1 Fact table:\r\n",
    "  * Dimensions tables:\r\n",
    "      * vaccines table: Vaccines and suppliers\r\n",
    "      * health_institution table: Hospitals, Nursing home, Clinics \r\n",
    "      * category table: Priority groups\r\n",
    "      * population_group table: Demograph group (professions, age group, ethnicity)\r\n",
    "      * patient table: Demograph data (age, city, gender)\r\n",
    "  * Fact table:\r\n",
    "      * imunization table: Dimensions, First | second dose, date\r\n",
    "\r\n",
    "![ER Data Model - Star Scheme](./docs/er-model-star.jpg)\r\n",
    "\r\n",
    "_List the steps necessary to pipeline the data into the chosen data model_\r\n",
    "* ETL starts the enviroment setup: imports, read config file, def functions and create Spark Session\r\n",
    "* ETL script takes source data (Brazilian Government' dataset COVID-19 population imunization program)\r\n",
    "* Raw data is read into dataframe and cleaned (remove unused columns, fill nulls) \r\n",
    "* For each dimension and fact table \r\n",
    "\t* Create a temporary view table\r\n",
    "\t* Read data to new dataframe\r\n",
    "    * Check data quality: key columns don't have nulls, each table has content\r\n",
    "\t* Create id/indexes (if necessary)\r\n",
    "\t* Write parquet files"
   ],
   "metadata": {
    "editable": true
   }
  },
  {
   "cell_type": "markdown",
   "source": [
    "## Step 4: Run ETL to Model the Data\n",
    "* Create the data pipelines and the data model\n",
    "* Include a data dictionary\n",
    "* Run data quality checks to ensure the pipeline ran as expected\n",
    "\t* Integrity constraints on the relational database (e.g., unique key, data type, etc.)\n",
    "\t* Unit tests for the scripts to ensure they are doing the right thing\n",
    "\t* Source/count checks to ensure completeness"
   ],
   "metadata": {
    "editable": true
   }
  },
  {
   "cell_type": "code",
   "execution_count": null,
   "source": [
    "# Create vaccines table and write parquet files\n",
    "vaccines_df.createOrReplaceTempView(\"vaccines_table_DF\")\n",
    "vaccines_table_DF = spark.sql(\"\"\"\n",
    "    SELECT  DISTINCT vacina_codigo AS id, \n",
    "                     vacina_nome AS name, \n",
    "                     vacina_fabricante_nome AS supplier\n",
    "    FROM vaccines_table_DF\n",
    "    ORDER BY supplier\n",
    "\"\"\")\n",
    "\n",
    "vaccines_table_DF.printSchema()\n",
    "vaccines_table_DF.show()"
   ],
   "outputs": [],
   "metadata": {
    "editable": true
   }
  },
  {
   "cell_type": "code",
   "execution_count": null,
   "source": [
    "# Check data quality\n",
    "if not check_nulls(vaccines_table_DF, ['id', 'name', 'supplier'], 0): raise Exception('Null: Vaccines tables')\n",
    "if not check_has_content(vaccines_table_DF): raise Exception('No content: Vaccines table')"
   ],
   "outputs": [],
   "metadata": {}
  },
  {
   "cell_type": "code",
   "execution_count": null,
   "source": [
    "# Write parquet file and get back to Spark:\n",
    "write_parquet(vaccines_table_DF, 'vaccines')\n",
    "vaccines_table_DF = read_parquet('vaccines')"
   ],
   "outputs": [],
   "metadata": {
    "editable": true
   }
  },
  {
   "cell_type": "code",
   "execution_count": null,
   "source": [
    "# Create Health Institution table and write parquet files\n",
    "vaccines_df.createOrReplaceTempView(\"health_institution_table_DF\")\n",
    "health_institution_table_DF = spark.sql(\"\"\"\n",
    "    SELECT DISTINCT estalecimento_nofantasia AS name,\n",
    "                    estabelecimento_razaosocial AS organization,\n",
    "                    estabelecimento_uf AS state,\n",
    "                    estabelecimento_municipio_nome AS city\n",
    "    FROM health_institution_table_DF\n",
    "    ORDER BY name\n",
    "\"\"\")\n",
    "\n",
    "health_institution_table_DF = health_institution_table_DF.select(mono_id().alias('id'), '*')\n",
    "health_institution_table_DF.printSchema()\n",
    "health_institution_table_DF.show()"
   ],
   "outputs": [],
   "metadata": {
    "editable": true
   }
  },
  {
   "cell_type": "code",
   "execution_count": null,
   "source": [
    "# Check data quality\n",
    "if not check_nulls(health_institution_table_DF, ['id', 'name', 'organization', 'state', 'city'], 0): raise Exception('Null: Health institution table')\n",
    "if not check_has_content(health_institution_table_DF): raise Exception('No content: Health institution table')"
   ],
   "outputs": [],
   "metadata": {}
  },
  {
   "cell_type": "code",
   "execution_count": null,
   "source": [
    "# Write parquet file and get back to Spark:\n",
    "write_parquet(health_institution_table_DF, 'health_institution')\n",
    "health_institution_table_DF = read_parquet('health_institution')"
   ],
   "outputs": [],
   "metadata": {
    "editable": true
   }
  },
  {
   "cell_type": "code",
   "execution_count": null,
   "source": [
    "# Create Category table and write parquet files\n",
    "vaccines_df.createOrReplaceTempView(\"category_table_DF\")\n",
    "category_table_DF = spark.sql(\"\"\"\n",
    "    SELECT DISTINCT vacina_categoria_codigo AS id,\n",
    "                    vacina_categoria_nome AS name\n",
    "            FROM category_table_DF\n",
    "            ORDER BY name\n",
    "\"\"\")\n",
    "\n",
    "category_table_DF.printSchema()\n",
    "category_table_DF.show()"
   ],
   "outputs": [],
   "metadata": {
    "editable": true
   }
  },
  {
   "cell_type": "code",
   "execution_count": null,
   "source": [
    "# Check data quality\n",
    "if not check_nulls(category_table_DF, ['id', 'name'], 0): raise Exception('Null: Category table')\n",
    "if not check_has_content(category_table_DF): raise Exception('No content: Category table')"
   ],
   "outputs": [],
   "metadata": {}
  },
  {
   "cell_type": "code",
   "execution_count": null,
   "source": [
    "# Write parquet file and get back to Spark:\n",
    "write_parquet(category_table_DF, 'category')\n",
    "category_table_DF = read_parquet('category')"
   ],
   "outputs": [],
   "metadata": {
    "editable": true
   }
  },
  {
   "cell_type": "code",
   "execution_count": null,
   "source": [
    "# Create Population Groups table and write parquet files\n",
    "vaccines_df.createOrReplaceTempView(\"population_group_table_DF\")\n",
    "population_group_table_DF = spark.sql(\"\"\"\n",
    "    SELECT DISTINCT vacina_grupoatendimento_codigo AS id,\n",
    "                    vacina_grupoatendimento_nome AS name\n",
    "            FROM population_group_table_DF\n",
    "        ORDER BY name\n",
    "\"\"\")\n",
    "\n",
    "population_group_table_DF.printSchema()\n",
    "population_group_table_DF.show()"
   ],
   "outputs": [],
   "metadata": {
    "editable": true
   }
  },
  {
   "cell_type": "code",
   "execution_count": null,
   "source": [
    "# Check data quality\n",
    "if not check_nulls(population_group_table_DF, ['id', 'name'], 0): raise Exception('Null: Population group table')\n",
    "if not check_has_content(population_group_table_DF): raise Exception('No content: Population group table')"
   ],
   "outputs": [],
   "metadata": {}
  },
  {
   "cell_type": "code",
   "execution_count": null,
   "source": [
    "# Write parquet file and get back to Spark:\n",
    "write_parquet(population_group_table_DF, 'population_group')\n",
    "population_group_table_DF = read_parquet('population_group')"
   ],
   "outputs": [],
   "metadata": {
    "editable": true
   }
  },
  {
   "cell_type": "code",
   "execution_count": null,
   "source": [
    "# Create Patient table and write parquet files\n",
    "vaccines_df.createOrReplaceTempView(\"patient_table_DF\")\n",
    "patient_table_DF = spark.sql(\"\"\"\n",
    "    SELECT DISTINCT paciente_id AS id,\n",
    "                    paciente_idade AS age,\n",
    "                    paciente_datanascimento AS birthdate,\n",
    "                    paciente_enumsexobiologico AS gender,\n",
    "                    paciente_endereco_nmpais AS country,\n",
    "                    paciente_endereco_uf AS state,\n",
    "                    paciente_endereco_nmmunicipio AS city\n",
    "            FROM patient_table_DF\n",
    "            WHERE paciente_id IS NOT NULL\n",
    "            ORDER BY id\n",
    "\"\"\")\n",
    "\n",
    "patient_table_DF.printSchema()\n",
    "patient_table_DF.show()"
   ],
   "outputs": [],
   "metadata": {
    "editable": true
   }
  },
  {
   "cell_type": "code",
   "execution_count": null,
   "source": [
    "# Check data quality\n",
    "if not check_nulls(patient_table_DF, ['id', 'age', 'birthdate', 'gender', 'country', 'state', 'city'], 0): raise Exception('Null: Patient table')\n",
    "if not check_has_content(patient_table_DF): raise Exception('No content: Patient table')"
   ],
   "outputs": [],
   "metadata": {}
  },
  {
   "cell_type": "code",
   "execution_count": null,
   "source": [
    "# Write parquet file and get back to Spark:\n",
    "write_parquet(patient_table_DF, 'patient')\n",
    "patient_table_DF = read_parquet('patient')"
   ],
   "outputs": [],
   "metadata": {
    "editable": true
   }
  },
  {
   "cell_type": "code",
   "execution_count": null,
   "source": [
    "vaccines_df_joined = vaccines_df.join(health_institution_table_DF, \\\n",
    "                                      [vaccines_df.estalecimento_nofantasia == health_institution_table_DF.name,\\\n",
    "                                      vaccines_df.estabelecimento_razaosocial == health_institution_table_DF.organization])\n",
    "\n",
    "vaccines_df_joined.printSchema()"
   ],
   "outputs": [],
   "metadata": {
    "editable": true
   }
  },
  {
   "cell_type": "code",
   "execution_count": null,
   "source": [
    "# Create Patient table and write parquet files\n",
    "vaccines_df_joined.createOrReplaceTempView(\"imunization_table_DF\")\n",
    "imunization_table_DF = spark.sql(\"\"\"\n",
    "    SELECT distinct paciente_id AS patient_id,\n",
    "            id AS health_institution_id,\n",
    "            vacina_categoria_codigo AS category_id,\n",
    "            vacina_grupoatendimento_codigo AS population_group_id,\n",
    "            vacina_codigo AS vaccines_id,\n",
    "            vacina_descricao_dose AS vaccines_dose,\n",
    "            vacina_dataaplicacao AS jab_date\n",
    "        FROM imunization_table_DF\n",
    "        ORDER BY jab_date\n",
    "\"\"\")\n",
    "\n",
    "imunization_table_DF.printSchema()"
   ],
   "outputs": [],
   "metadata": {
    "editable": true
   }
  },
  {
   "cell_type": "code",
   "execution_count": null,
   "source": [
    "# Check data quality\n",
    "if not check_nulls(imunization_table_DF, \\\n",
    "        ['patient_id', \\\n",
    "        'health_institution_id', \\\n",
    "        'category_id', \\\n",
    "        'population_group_id', \\\n",
    "        'vaccines_id', \\\n",
    "        'vaccines_dose', \\\n",
    "        'jab_date'], 0): raise Exception('Null: Imunization table')\n",
    "if not check_has_content(imunization_table_DF): raise Exception('No content: Imunization table')"
   ],
   "outputs": [],
   "metadata": {}
  },
  {
   "cell_type": "code",
   "execution_count": null,
   "source": [
    "# Write parquet file and get back to Spark:\n",
    "write_parquet(imunization_table_DF, 'imunization')\n",
    "imunization_table_DF = read_parquet('imunization')"
   ],
   "outputs": [],
   "metadata": {
    "editable": true
   }
  },
  {
   "cell_type": "code",
   "execution_count": null,
   "source": [
    "imunization_table_DF.show()"
   ],
   "outputs": [],
   "metadata": {
    "editable": true
   }
  },
  {
   "cell_type": "code",
   "execution_count": null,
   "source": [],
   "outputs": [],
   "metadata": {
    "editable": true
   }
  }
 ],
 "metadata": {
  "interpreter": {
   "hash": "60f08008ae04b0180d9de48a4e6c46fd1dc6f0039899f9ca67c2a7ee0fcf33e7"
  },
  "kernelspec": {
   "name": "python3",
   "display_name": "Python 3.8.8 64-bit ('base': conda)"
  },
  "language_info": {
   "codemirror_mode": {
    "name": "ipython",
    "version": 3
   },
   "file_extension": ".py",
   "mimetype": "text/x-python",
   "name": "python",
   "nbconvert_exporter": "python",
   "pygments_lexer": "ipython3",
   "version": "3.8.8"
  }
 },
 "nbformat": 4,
 "nbformat_minor": 5
}