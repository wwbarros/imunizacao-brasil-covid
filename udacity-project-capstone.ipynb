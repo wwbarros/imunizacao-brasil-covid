{
 "cells": [
  {
   "cell_type": "code",
   "execution_count": null,
   "id": "276bd56e",
   "metadata": {},
   "outputs": [],
   "source": [
    "import pandas as pd\n",
    "from pyspark.sql import SparkSession"
   ]
  },
  {
   "cell_type": "code",
   "execution_count": null,
   "id": "b3ce6eb6",
   "metadata": {},
   "outputs": [],
   "source": [
    "# Origem: https://dados.gov.br/dataset/covid-19-vacinacao/resource/ef3bd0b8-b605-474b-9ae5-c97390c197a8?inner_span=True\n",
    "datafile = './data/vaccines.csv'\n",
    "nrows = 100000\n",
    "\n",
    "df = pd.read_csv(datafile, sep=';', header=0, nrows=nrows)"
   ]
  },
  {
   "cell_type": "code",
   "execution_count": null,
   "id": "d2ad22cc",
   "metadata": {},
   "outputs": [],
   "source": [
    "df.head()"
   ]
  },
  {
   "cell_type": "code",
   "execution_count": null,
   "id": "ff34bac4",
   "metadata": {},
   "outputs": [],
   "source": [
    "df.columns"
   ]
  },
  {
   "cell_type": "code",
   "execution_count": null,
   "id": "baed18de",
   "metadata": {},
   "outputs": [],
   "source": [
    "df.query(\"estabelecimento_municipio_nome == 'PINHEIRO'\")"
   ]
  },
  {
   "cell_type": "code",
   "execution_count": null,
   "id": "5d72e7f8",
   "metadata": {},
   "outputs": [],
   "source": []
  }
 ],
 "metadata": {
  "kernelspec": {
   "display_name": "Python 3",
   "language": "python",
   "name": "python3"
  },
  "language_info": {
   "codemirror_mode": {
    "name": "ipython",
    "version": 3
   },
   "file_extension": ".py",
   "mimetype": "text/x-python",
   "name": "python",
   "nbconvert_exporter": "python",
   "pygments_lexer": "ipython3",
   "version": "3.8.8"
  }
 },
 "nbformat": 4,
 "nbformat_minor": 5
}
