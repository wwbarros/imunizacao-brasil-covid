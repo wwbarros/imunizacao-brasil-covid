{
 "cells": [
  {
   "cell_type": "markdown",
   "source": [
    "# Progama brasileiro de imunização - COVID 19"
   ],
   "metadata": {}
  },
  {
   "cell_type": "markdown",
   "source": [
    "## Objetivos\r\n",
    "\r\n",
    "Transformar os dados brutos dos registro de vacinação para um modelo analítico, disponibilizando para consulta pública.\r\n",
    "\r\n",
    "Utilizaremos os seguintes conjuntos de dados:\r\n",
    "* [Registros de Vacinação COVID19 do Ministério da Saúde](https://dados.gov.br/dataset/covid-19-vacinacao/resource/ef3bd0b8-b605-474b-9ae5-c97390c197a8?inner_span=True)\r\n",
    "    * O processamento será feito por Unidade Federativa, para fins de otimização\r\n",
    "\r\n",
    "**Os dados serão extraídos dos arquivos CSV fornecidos pelo Ministério da Saúde, e carregados em um conjunto de tabelas analíticas, seguindo o modelo [Star Schema](https://en.wikipedia.org/wiki/Star_schema).**."
   ],
   "metadata": {}
  },
  {
   "cell_type": "markdown",
   "source": [
    "## Enviroment setup"
   ],
   "metadata": {}
  },
  {
   "cell_type": "code",
   "execution_count": null,
   "source": [
    "# Import necessary libraries\r\n",
    "import pandas as pd\r\n",
    "import uuid\r\n",
    "from pyspark.sql import SparkSession\r\n",
    "from pyspark.sql.types import StringType\r\n",
    "from pyspark.sql.functions import udf\r\n",
    "import configparser"
   ],
   "outputs": [],
   "metadata": {}
  },
  {
   "cell_type": "code",
   "execution_count": null,
   "source": [
    "# Read config file\r\n",
    "config = configparser.ConfigParser()\r\n",
    "config.read_file(open('dl.cfg'))\r\n",
    "\r\n",
    "INPUT_DATA = config['LOCAL']['INPUT_DATA']\r\n",
    "INPUT_DATA_VACCINES = config['LOCAL']['INPUT_DATA_VACCINES']\r\n",
    "OUTPUT_DATA = config['LOCAL']['OUTPUT_DATA']\r\n",
    "DATA_COLUMNS = config['COMMON']['DATA_COLUMNS']"
   ],
   "outputs": [],
   "metadata": {}
  },
  {
   "cell_type": "code",
   "execution_count": null,
   "source": [
    "@udf(StringType())\r\n",
    "def null_id_to_uuid (id):\r\n",
    "    if id == None or id == \"null\":\r\n",
    "        return str(uuid.uuid4().hex)\r\n",
    "    return id"
   ],
   "outputs": [],
   "metadata": {}
  },
  {
   "cell_type": "code",
   "execution_count": null,
   "source": [
    "def write_parquet(df, parquet_name):\r\n",
    "    parquet_path = OUTPUT_DATA + f'{parquet_name}.parquet'\r\n",
    "    df.write.mode(\"overwrite\").parquet(parquet_path)\r\n",
    "    print(f'Writing {parquet_name} Table DONE.')\r\n"
   ],
   "outputs": [],
   "metadata": {}
  },
  {
   "cell_type": "code",
   "execution_count": null,
   "source": [
    "def read_parquet(parquet_name):\r\n",
    "    parquet_path = OUTPUT_DATA + f'{parquet_name}.parquet'\r\n",
    "    return spark.read.parquet(parquet_path)"
   ],
   "outputs": [],
   "metadata": {}
  },
  {
   "cell_type": "code",
   "execution_count": null,
   "source": [
    "def check_nulls(df, columns_list, expected_value):\r\n",
    "    df.createOrReplaceTempView(\"viewcheck\")\r\n",
    "    sql_check = f\"SELECT COUNT(*) FROM viewcheck WHERE 1 <> 1 {''.join([' OR ' + c + ' IS NULL ' for c in columns_list])}\"\r\n",
    "    \r\n",
    "    dfcheck = spark.sql(sql_check)\r\n",
    "    \r\n",
    "    value_check = dfcheck.collect()[0][0]\r\n",
    "    \r\n",
    "    return value_check == expected_value"
   ],
   "outputs": [],
   "metadata": {}
  },
  {
   "cell_type": "code",
   "execution_count": null,
   "source": [
    "def check_has_content(df):\r\n",
    "    return df.count() > 0"
   ],
   "outputs": [],
   "metadata": {}
  },
  {
   "cell_type": "code",
   "execution_count": null,
   "source": [
    "# Spark session\r\n",
    "spark = SparkSession \\\r\n",
    "        .builder\\\r\n",
    "        .appName(\"Brasil - Programa de imunização - COVID-19\")\\\r\n",
    "        .getOrCreate()"
   ],
   "outputs": [],
   "metadata": {}
  },
  {
   "cell_type": "code",
   "execution_count": null,
   "source": [
    "dados_imunizacao = spark.read.csv(INPUT_DATA_VACCINES, sep=';', header=True)\r\n",
    "\r\n",
    "dados_imunizacao.printSchema()"
   ],
   "outputs": [],
   "metadata": {}
  },
  {
   "cell_type": "markdown",
   "source": [
    "## Step 2: Explore and Assess the Data\n",
    "In this step we need:\n",
    "* Explore the data to identify data quality issues, like missing values, duplicate data, etc.\n",
    "* Document steps necessary to clean the data"
   ],
   "metadata": {}
  },
  {
   "cell_type": "code",
   "execution_count": null,
   "source": [
    "# Read the data dictionary from JSON and extract the valid columns\r\n",
    "col_names = pd.read_json(DATA_COLUMNS, typ='series')\r\n",
    "colunas_utilizadas = col_names.index\r\n",
    "colunas_utilizadas"
   ],
   "outputs": [],
   "metadata": {}
  },
  {
   "cell_type": "code",
   "execution_count": null,
   "source": [
    "# Get the difference between the dataframe colums and the valid columns\r\n",
    "colunas_naoutilizadas = list(set(dados_imunizacao.columns) - set(colunas_utilizadas))\r\n",
    "\r\n",
    "colunas_naoutilizadas"
   ],
   "outputs": [],
   "metadata": {}
  },
  {
   "cell_type": "code",
   "execution_count": null,
   "source": [
    "# Remove unused columns from dataframe\r\n",
    "dados_imunizacao = dados_imunizacao.drop(*colunas_naoutilizadas)\r\n",
    "dados_imunizacao.printSchema()"
   ],
   "outputs": [],
   "metadata": {}
  },
  {
   "cell_type": "code",
   "execution_count": null,
   "source": [
    "# Replace the null values\r\n",
    "dados_imunizacao = dados_imunizacao.fillna(\\\r\n",
    "    {\\\r\n",
    "        'vacina_categoria_codigo': 0, \\\r\n",
    "        'vacina_categoria_nome': 'N/A', \\\r\n",
    "        'vacina_grupoatendimento_nome': 'N/A', \\\r\n",
    "        'paciente_enumsexobiologico': 'N/A',\\\r\n",
    "        'paciente_endereco_nmmunicipio': 'N/A', \\\r\n",
    "        'paciente_endereco_nmpais': 'N/A', \\\r\n",
    "        'paciente_endereco_uf': 'N/A', \\\r\n",
    "        'estalecimento_nofantasia': 'N/A'\r\n",
    "    })"
   ],
   "outputs": [],
   "metadata": {}
  },
  {
   "cell_type": "code",
   "execution_count": null,
   "source": [
    "dados_imunizacao.printSchema()"
   ],
   "outputs": [],
   "metadata": {}
  },
  {
   "cell_type": "code",
   "execution_count": null,
   "source": [
    "# Write staging table and read back\r\n",
    "write_parquet(dados_imunizacao, 'staging_imunizacao')\r\n",
    "\r\n",
    "dados_imunizacao = read_parquet('staging_imunizacao')"
   ],
   "outputs": [],
   "metadata": {}
  },
  {
   "cell_type": "markdown",
   "source": [
    "## Step 3: Define the Data Model\n",
    "_Map out the conceptual data model and explain why you chose that model_\n",
    "\n",
    "The data model is a star schema consisting of 5 Dimensions table and 1 Fact table:\n",
    "  * Dimensions tables:\n",
    "      * vaccines table: Vaccines and suppliers\n",
    "      * health_institution table: Hospitals, Nursing home, Clinics \n",
    "      * category table: Priority groups\n",
    "      * population_group table: Demograph group (professions, age group, ethnicity)\n",
    "      * patient table: Demograph data (age, city, gender)\n",
    "  * Fact table:\n",
    "      * immunization table: Dimensions, First | second dose, date\n",
    "\n",
    "![ER Data Model - Star Scheme](./docs/er-model-star.jpg)\n",
    "\n",
    "_List the steps necessary to pipeline the data into the chosen data model_\n",
    "* ETL starts the enviroment setup: imports, read config file, def functions and create Spark Session\n",
    "* ETL script takes source data (Brazilian Government' dataset COVID-19 population immunization program)\n",
    "* Raw data is read into dataframe and cleaned (remove unused columns, fill nulls) \n",
    "* For each dimension and fact table \n",
    "\t* Create a temporary view table\n",
    "\t* Read data to new dataframe\n",
    "    * Check data quality: key columns don't have nulls, each table has content\n",
    "\t* Create id/indexes (if necessary)\n",
    "\t* Write parquet files"
   ],
   "metadata": {}
  },
  {
   "cell_type": "markdown",
   "source": [
    "## Step 4: Run ETL to Model the Data\n",
    "* Create the data pipelines and the data model\n",
    "* Include a data dictionary\n",
    "* Run data quality checks to ensure the pipeline ran as expected\n",
    "\t* Integrity constraints on the relational database (e.g., unique key, data type, etc.)\n",
    "\t* Unit tests for the scripts to ensure they are doing the right thing\n",
    "\t* Source/count checks to ensure completeness"
   ],
   "metadata": {}
  },
  {
   "cell_type": "code",
   "execution_count": null,
   "source": [
    "# Create vaccines table\r\n",
    "dados_imunizacao.createOrReplaceTempView(\"vacinas_df\")\r\n",
    "vacinas_df = spark.sql(\"\"\"\r\n",
    "    SELECT  DISTINCT vacina_codigo AS id, \r\n",
    "                     vacina_nome AS name, \r\n",
    "                     vacina_fabricante_nome AS supplier\r\n",
    "    FROM vacinas_df\r\n",
    "    ORDER BY supplier\r\n",
    "\"\"\")\r\n",
    "\r\n",
    "vacinas_df.printSchema()\r\n",
    "vacinas_df.show()"
   ],
   "outputs": [],
   "metadata": {}
  },
  {
   "cell_type": "code",
   "execution_count": null,
   "source": [
    "# Check data quality\r\n",
    "if not check_nulls(vacinas_df, ['id', 'name', 'supplier'], 0): raise Exception('Null: Vaccines tables')\r\n",
    "if not check_has_content(vacinas_df): raise Exception('No content: Vaccines table')"
   ],
   "outputs": [],
   "metadata": {}
  },
  {
   "cell_type": "code",
   "execution_count": null,
   "source": [
    "# Write parquet file\r\n",
    "write_parquet(vacinas_df, 'vacinas')"
   ],
   "outputs": [],
   "metadata": {}
  },
  {
   "cell_type": "code",
   "execution_count": null,
   "source": [
    "# Create Health Institution table\r\n",
    "dados_imunizacao.createOrReplaceTempView(\"estabelecimento_df\")\r\n",
    "estabelecimento_df = spark.sql(\"\"\"\r\n",
    "    SELECT DISTINCT estabelecimento_valor AS id,\r\n",
    "                    estalecimento_nofantasia AS name,\r\n",
    "                    estabelecimento_razaosocial AS organization,\r\n",
    "                    estabelecimento_uf AS state,\r\n",
    "                    estabelecimento_municipio_nome AS city\r\n",
    "    FROM estabelecimento_df\r\n",
    "    ORDER BY name\r\n",
    "\"\"\")\r\n",
    "\r\n",
    "estabelecimento_df.printSchema()\r\n",
    "estabelecimento_df.show()"
   ],
   "outputs": [],
   "metadata": {}
  },
  {
   "cell_type": "code",
   "execution_count": null,
   "source": [
    "# Check data quality\r\n",
    "if not check_nulls(estabelecimento_df, ['id', 'name', 'organization', 'state', 'city'], 0): raise Exception('Null: Health institution table')\r\n",
    "if not check_has_content(estabelecimento_df): raise Exception('No content: Health institution table')"
   ],
   "outputs": [],
   "metadata": {}
  },
  {
   "cell_type": "code",
   "execution_count": null,
   "source": [
    "# Write parquet file\r\n",
    "write_parquet(estabelecimento_df, 'estabelecimentos')"
   ],
   "outputs": [],
   "metadata": {}
  },
  {
   "cell_type": "code",
   "execution_count": null,
   "source": [
    "# Create Category table\r\n",
    "dados_imunizacao.createOrReplaceTempView(\"categorias_df\")\r\n",
    "categorias_df = spark.sql(\"\"\"\r\n",
    "    SELECT DISTINCT vacina_categoria_codigo AS id,\r\n",
    "                    vacina_categoria_nome AS name\r\n",
    "            FROM categorias_df\r\n",
    "            ORDER BY name\r\n",
    "\"\"\")\r\n",
    "\r\n",
    "categorias_df.printSchema()\r\n",
    "categorias_df.show()"
   ],
   "outputs": [],
   "metadata": {}
  },
  {
   "cell_type": "code",
   "execution_count": null,
   "source": [
    "# Check data quality\r\n",
    "if not check_nulls(categorias_df, ['id', 'name'], 0): raise Exception('Null: Category table')\r\n",
    "if not check_has_content(categorias_df): raise Exception('No content: Category table')"
   ],
   "outputs": [],
   "metadata": {}
  },
  {
   "cell_type": "code",
   "execution_count": null,
   "source": [
    "# Write parquet file\r\n",
    "write_parquet(categorias_df, 'categorias')"
   ],
   "outputs": [],
   "metadata": {}
  },
  {
   "cell_type": "code",
   "execution_count": null,
   "source": [
    "# Create Population Groups table\r\n",
    "dados_imunizacao.createOrReplaceTempView(\"grupos_atendimento_df\")\r\n",
    "grupos_atendimento_df = spark.sql(\"\"\"\r\n",
    "    SELECT DISTINCT vacina_grupoatendimento_codigo AS id,\r\n",
    "                    vacina_grupoatendimento_nome AS name\r\n",
    "            FROM grupos_atendimento_df\r\n",
    "        ORDER BY name\r\n",
    "\"\"\")\r\n",
    "\r\n",
    "grupos_atendimento_df.printSchema()\r\n",
    "grupos_atendimento_df.show()"
   ],
   "outputs": [],
   "metadata": {}
  },
  {
   "cell_type": "code",
   "execution_count": null,
   "source": [
    "# Check data quality\r\n",
    "if not check_nulls(grupos_atendimento_df, ['id', 'name'], 0): raise Exception('Null: Population group table')\r\n",
    "if not check_has_content(grupos_atendimento_df): raise Exception('No content: Population group table')"
   ],
   "outputs": [],
   "metadata": {}
  },
  {
   "cell_type": "code",
   "execution_count": null,
   "source": [
    "# Write parquet file\r\n",
    "write_parquet(grupos_atendimento_df, 'grupos')"
   ],
   "outputs": [],
   "metadata": {}
  },
  {
   "cell_type": "code",
   "execution_count": null,
   "source": [
    "# Create Patient table\r\n",
    "dados_imunizacao.createOrReplaceTempView(\"pacientes_df\")\r\n",
    "pacientes_df = spark.sql(\"\"\"\r\n",
    "    SELECT DISTINCT paciente_id AS id,\r\n",
    "                    paciente_idade AS age,\r\n",
    "                    paciente_datanascimento AS birthdate,\r\n",
    "                    paciente_enumsexobiologico AS gender,\r\n",
    "                    paciente_endereco_nmpais AS country,\r\n",
    "                    paciente_endereco_uf AS state,\r\n",
    "                    paciente_endereco_nmmunicipio AS city\r\n",
    "            FROM pacientes_df\r\n",
    "            WHERE paciente_id IS NOT NULL\r\n",
    "            ORDER BY id\r\n",
    "\"\"\")\r\n",
    "\r\n",
    "pacientes_df.printSchema()\r\n",
    "pacientes_df.show()"
   ],
   "outputs": [],
   "metadata": {}
  },
  {
   "cell_type": "code",
   "execution_count": null,
   "source": [
    "# Check data quality\r\n",
    "if not check_nulls(pacientes_df, ['id', 'age', 'birthdate', 'gender', 'country', 'state', 'city'], 0): raise Exception('Null: Patient table')\r\n",
    "if not check_has_content(pacientes_df): raise Exception('No content: Patient table')"
   ],
   "outputs": [],
   "metadata": {}
  },
  {
   "cell_type": "code",
   "execution_count": null,
   "source": [
    "# Write parquet file and get back to Spark:\r\n",
    "write_parquet(pacientes_df, 'pacientes')"
   ],
   "outputs": [],
   "metadata": {}
  },
  {
   "cell_type": "code",
   "execution_count": null,
   "source": [
    "# Get back Health Institution table from parquet\r\n",
    "estabelecimento_df = read_parquet('estabelecimentos')"
   ],
   "outputs": [],
   "metadata": {}
  },
  {
   "cell_type": "code",
   "execution_count": null,
   "source": [
    "# Create Patient table and write parquet files\r\n",
    "dados_imunizacao.createOrReplaceTempView(\"dados_imunizacao\")\r\n",
    "vacinacao_df = spark.sql(\"\"\"\r\n",
    "    SELECT DISTINCT paciente_id AS patient_id,\r\n",
    "            estabelecimento_valor AS health_institution_id,\r\n",
    "            vacina_categoria_codigo AS category_id,\r\n",
    "            vacina_grupoatendimento_codigo AS population_group_id,\r\n",
    "            vacina_codigo AS vaccines_id,\r\n",
    "            vacina_descricao_dose AS vaccines_dose,\r\n",
    "            vacina_dataaplicacao AS jab_date\r\n",
    "        FROM dados_imunizacao \r\n",
    "        WHERE paciente_id IS NOT NULL\r\n",
    "        ORDER BY jab_date\r\n",
    "\"\"\")\r\n",
    "\r\n",
    "vacinacao_df.printSchema()"
   ],
   "outputs": [],
   "metadata": {}
  },
  {
   "cell_type": "code",
   "execution_count": null,
   "source": [
    "# Check data quality\r\n",
    "if not check_nulls(vacinacao_df, \\\r\n",
    "        ['patient_id', \\\r\n",
    "        'health_institution_id', \\\r\n",
    "        'category_id', \\\r\n",
    "        'population_group_id', \\\r\n",
    "        'vaccines_id', \\\r\n",
    "        'vaccines_dose', \\\r\n",
    "        'jab_date'], 0): raise Exception('Null: Immunization table')\r\n",
    "if not check_has_content(vacinacao_df): raise Exception('No content: Immunization table')"
   ],
   "outputs": [],
   "metadata": {}
  },
  {
   "cell_type": "code",
   "execution_count": null,
   "source": [
    "# Write parquet file and get back to Spark:\r\n",
    "write_parquet(vacinacao_df, 'vacinacao')\r\n",
    "vacinacao_df = read_parquet('vacinacao')"
   ],
   "outputs": [],
   "metadata": {}
  },
  {
   "cell_type": "code",
   "execution_count": null,
   "source": [
    "vacinacao_df.show()"
   ],
   "outputs": [],
   "metadata": {}
  },
  {
   "cell_type": "markdown",
   "source": [
    "### Data dictionary\n",
    "\n",
    "[Dict](./data-dictionary.json)\n",
    "```\n",
    "{\n",
    "  \"vaccines\": {\n",
    "    \"description\": \"Vaccines and suppliers\",\n",
    "    \"fields\": {\n",
    "      \"id\": \"Identity field\",\n",
    "      \"name\": \"Vaccine name\",\n",
    "      \"supplier\": \"Laboratory/supplier\"\n",
    "    }\n",
    "  },\n",
    "  \"health_institution\": {\n",
    "    \"description\": \"Hospitals, Nursing home, Clinics\",\n",
    "    \"fields\": {\n",
    "      \"id\": \"Identity field\",\n",
    "      \"name\": \"Institution name\",\n",
    "      \"organization\": \"\",\n",
    "      \"state\": \"Brazilian State\",\n",
    "      \"city\": \"City name\"\n",
    "    }\n",
    "  },\n",
    "  \"category\": {\n",
    "    \"description\": \"Priority groups\",\n",
    "    \"fields\": {\n",
    "      \"id\": \"Identity field\",\n",
    "      \"name\": \"Group name\"\n",
    "    }\n",
    "  },\n",
    "  \"population_group\": {\n",
    "    \"description\": \"Demograph group (professions, age group, ethnicity)\",\n",
    "    \"fields\": {\n",
    "      \"id\": \"Identity field\",\n",
    "      \"name\": \"Group name\"\n",
    "    }\n",
    "  },\n",
    "  \"patient\": {\n",
    "    \"description\": \"Demograph data (age, city, gender)\",\n",
    "    \"fields\": {\n",
    "      \"id\": \"Identity field\",\n",
    "      \"age\": \"Patient age (years)\",\n",
    "      \"birthdate\": \"Birth date\",\n",
    "      \"gender\": \"Male/Female\",\n",
    "      \"country\": \"Country (Brazil)\",\n",
    "      \"state\": \"Brazilian State\",\n",
    "      \"city\": \"City name\"\n",
    "    }\n",
    "  },\n",
    "  \"imunization\": {\n",
    "    \"description\": \"Dimensions, First | second dose, date\",\n",
    "    \"fields\": {\n",
    "      \"patient_id\": \"(FK) Patient Identity\",\n",
    "      \"health_institution_id\": \"(FK) Health institution Identity\",\n",
    "      \"category_id\": \"(FK) Category group Identity\",\n",
    "      \"population_group_id\": \"(FK) Population group Identity\",\n",
    "      \"vaccines_id\": \"(FK) Vaccine Identity\",\n",
    "      \"vaccines_dose\": \"First/Second dose\",\n",
    "      \"jab_date\": \"Vaccine date\"\n",
    "    }\n",
    "  }\n",
    "}\n",
    "```"
   ],
   "metadata": {}
  },
  {
   "cell_type": "markdown",
   "source": [
    "## Step 5: Complete Project Write Up\n",
    "Tools:\n",
    "* Python\n",
    "* Pandas\n",
    "* Spark\n",
    "\n",
    "These tools/technologies are apropriated to manipulate large dataset, processing in paralellized clusters\n",
    "\n",
    "**ETL script should be run weekly basis**, or whenever the .gov.br update the datasets\n",
    "\n",
    "How the script would approach the problem differently under the following scenarios:\n",
    "* If the data was increased by 100x: _Use Spark Clustered to parallel the data load_\n",
    "* If the pipelines were run on a daily basis by 7am: _Refactor the script to process only new informations. The [.gov.br API](https://dados.gov.br/dataset/covid-19-vacinacao/resource/97a8fbcf-941f-4d2e-91ba-dd467d5bdeac?inner_span=True) could be used to request the delta information_\n",
    "* If the database needed to be accessed by 100+ people: _Store the parquet files on a cloud data lake_"
   ],
   "metadata": {}
  },
  {
   "cell_type": "markdown",
   "source": [
    "### Sample queries"
   ],
   "metadata": {}
  },
  {
   "cell_type": "code",
   "execution_count": null,
   "source": [
    "vacinas_df = read_parquet('vaccines')\r\n",
    "\r\n",
    "# Get Health institution by vaccines aplication\r\n",
    "vacinas_df.createOrReplaceTempView(\"vdf\")\r\n",
    "estabelecimento_df.createOrReplaceTempView(\"hidf\")\r\n",
    "vacinacao_df.createOrReplaceTempView(\"idf\")\r\n",
    "\r\n",
    "health_institution_rank = spark.sql(\"\"\"\r\n",
    "    SELECT \r\n",
    "        CASE\r\n",
    "            WHEN (GROUPING(hidf.name) = 1) THEN '# Total Institution'\r\n",
    "            ELSE hidf.name\r\n",
    "        END AS Institution,\r\n",
    "        CASE\r\n",
    "            WHEN (GROUPING(vdf.name) = 1) THEN '# Total Vaccines'\r\n",
    "            ELSE vdf.name\r\n",
    "        END AS Vaccine,\r\n",
    "        COUNT(*) AS TOTAL\r\n",
    "    FROM idf \r\n",
    "    INNER JOIN hidf ON idf.health_institution_id = hidf.id\r\n",
    "    INNER JOIN vdf ON idf.vaccines_id = vdf.id\r\n",
    "    GROUP BY CUBE(hidf.name, vdf.name)\r\n",
    "    ORDER BY Institution, TOTAL DESC, Vaccine\r\n",
    "\"\"\").toPandas()\r\n",
    "\r\n",
    "health_institution_rank.style"
   ],
   "outputs": [],
   "metadata": {}
  },
  {
   "cell_type": "code",
   "execution_count": null,
   "source": [
    "# Get vaccines aplication\r\n",
    "vaccines_rank = spark.sql(\"\"\"\r\n",
    "    SELECT \r\n",
    "        CASE\r\n",
    "            WHEN (GROUPING(vdf.supplier) = 1) THEN '# Total Supplier'\r\n",
    "            ELSE vdf.supplier\r\n",
    "        END AS Supplier,\r\n",
    "        CASE\r\n",
    "            WHEN (GROUPING(vdf.name) = 1) THEN '# Total Vaccines'\r\n",
    "            ELSE vdf.name\r\n",
    "        END AS Vaccine,\r\n",
    "        COUNT(*) AS TOTAL\r\n",
    "    FROM idf \r\n",
    "    INNER JOIN vdf ON idf.vaccines_id = vdf.id\r\n",
    "    GROUP BY CUBE(vdf.supplier, vdf.name)\r\n",
    "    ORDER BY Supplier, TOTAL DESC\r\n",
    "\"\"\").toPandas()\r\n",
    "\r\n",
    "vaccines_rank.style"
   ],
   "outputs": [],
   "metadata": {}
  },
  {
   "cell_type": "code",
   "execution_count": null,
   "source": [],
   "outputs": [],
   "metadata": {}
  }
 ],
 "metadata": {
  "interpreter": {
   "hash": "e3babd7ac79e0887df5a9e3ee8123f217b43f09743b73590444977beefbb8a7a"
  },
  "kernelspec": {
   "name": "python3",
   "display_name": "Python 3.8.8 64-bit ('base': conda)"
  },
  "language_info": {
   "codemirror_mode": {
    "name": "ipython",
    "version": 3
   },
   "file_extension": ".py",
   "mimetype": "text/x-python",
   "name": "python",
   "nbconvert_exporter": "python",
   "pygments_lexer": "ipython3",
   "version": "3.8.8"
  }
 },
 "nbformat": 4,
 "nbformat_minor": 5
}
